{
 "cells": [
  {
   "cell_type": "markdown",
   "metadata": {},
   "source": [
    "#### Introduction to Numpy"
   ]
  },
  {
   "cell_type": "code",
   "execution_count": 1,
   "metadata": {
    "collapsed": true
   },
   "outputs": [],
   "source": [
    "# Load the numpy library\n",
    "import numpy as np"
   ]
  },
  {
   "cell_type": "code",
   "execution_count": 2,
   "metadata": {},
   "outputs": [
    {
     "data": {
      "text/plain": [
       "'1.13.3'"
      ]
     },
     "execution_count": 2,
     "metadata": {},
     "output_type": "execute_result"
    }
   ],
   "source": [
    "# Check the version\n",
    "np.__version__"
   ]
  },
  {
   "cell_type": "code",
   "execution_count": 3,
   "metadata": {
    "collapsed": true
   },
   "outputs": [],
   "source": [
    "# Create a list of 10 numbers\n",
    "create_list = list(range(10))"
   ]
  },
  {
   "cell_type": "code",
   "execution_count": 4,
   "metadata": {},
   "outputs": [
    {
     "name": "stdout",
     "output_type": "stream",
     "text": [
      "Items in the list:  [0, 1, 2, 3, 4, 5, 6, 7, 8, 9]\n"
     ]
    }
   ],
   "source": [
    "print(\"Items in the list: \", create_list)"
   ]
  },
  {
   "cell_type": "code",
   "execution_count": 5,
   "metadata": {
    "collapsed": true
   },
   "outputs": [],
   "source": [
    "# Function to print datatypes of list\n",
    "def print_dtypes(l):\n",
    "    for item in l:\n",
    "        print(type(item))"
   ]
  },
  {
   "cell_type": "code",
   "execution_count": 6,
   "metadata": {},
   "outputs": [
    {
     "name": "stdout",
     "output_type": "stream",
     "text": [
      "<class 'int'>\n",
      "<class 'int'>\n",
      "<class 'int'>\n",
      "<class 'int'>\n",
      "<class 'int'>\n",
      "<class 'int'>\n",
      "<class 'int'>\n",
      "<class 'int'>\n",
      "<class 'int'>\n",
      "<class 'int'>\n"
     ]
    }
   ],
   "source": [
    "# Check the datatypes of the list\n",
    "print_dtypes(create_list)"
   ]
  },
  {
   "cell_type": "code",
   "execution_count": 7,
   "metadata": {
    "collapsed": true
   },
   "outputs": [],
   "source": [
    "# Let's try to create list with different datatypes\n",
    "list_hetrogeneous = [1, \"2\", \"A\", 3, {\"A\" :3, \"B\":4}, 9, (10, 20, 30, 40), True]"
   ]
  },
  {
   "cell_type": "code",
   "execution_count": 8,
   "metadata": {},
   "outputs": [
    {
     "name": "stdout",
     "output_type": "stream",
     "text": [
      "Heterogeneous List:\n",
      " [1, '2', 'A', 3, {'A': 3, 'B': 4}, 9, (10, 20, 30, 40), True]\n"
     ]
    }
   ],
   "source": [
    "# Print hetrogeneous list\n",
    "print(\"Heterogeneous List:\\n\", list_hetrogeneous)"
   ]
  },
  {
   "cell_type": "code",
   "execution_count": 9,
   "metadata": {},
   "outputs": [
    {
     "name": "stdout",
     "output_type": "stream",
     "text": [
      "<class 'int'>\n",
      "<class 'str'>\n",
      "<class 'str'>\n",
      "<class 'int'>\n",
      "<class 'dict'>\n",
      "<class 'int'>\n",
      "<class 'tuple'>\n",
      "<class 'bool'>\n"
     ]
    }
   ],
   "source": [
    "# Check the Datatypes in the hetrogeneous list\n",
    "print_dtypes(list_hetrogeneous)"
   ]
  },
  {
   "cell_type": "markdown",
   "metadata": {},
   "source": [
    "#### Creating Numpy arrays"
   ]
  },
  {
   "cell_type": "markdown",
   "metadata": {},
   "source": [
    "Unlike lists, numpy arrays are homogeneous in nature that means they comprise of only one data type like integer/ float/ double/ string/ boolean etc..."
   ]
  },
  {
   "cell_type": "code",
   "execution_count": null,
   "metadata": {},
   "outputs": [
    {
     "data": {
      "text/plain": [
       "array([['1', '2', '3'],\n",
       "       ['A', 'B', 'C']],\n",
       "      dtype='<U21')"
      ]
     },
     "execution_count": 10,
     "metadata": {},
     "output_type": "execute_result"
    }
   ],
   "source": [
    "# Let's try to create numpy array with different datatypes\n",
    "np.array([[1, 2, 3],\n",
    "         [\"A\", \"B\", \"C\"]])"
   ]
  },
  {
   "cell_type": "markdown",
   "metadata": {},
   "source": [
    "As you can see above numpy converted integers to strings to make array homogeneous"
   ]
  },
  {
   "cell_type": "markdown",
   "metadata": {},
   "source": [
    "Let's try to create some numpy arrays"
   ]
  },
  {
   "cell_type": "code",
   "execution_count": null,
   "metadata": {},
   "outputs": [],
   "source": [
    "# creating array with 5 one's of type int\n",
    "np.ones(5, dtype='int')"
   ]
  },
  {
   "cell_type": "code",
   "execution_count": null,
   "metadata": {},
   "outputs": [],
   "source": [
    "# creating array with 5 zero's of type float\n",
    "np.zeros(5, dtype='float')"
   ]
  },
  {
   "cell_type": "code",
   "execution_count": null,
   "metadata": {},
   "outputs": [],
   "source": [
    "#Lets create an identity matrix of 2x2\n",
    "np.eye(2)"
   ]
  },
  {
   "cell_type": "markdown",
   "metadata": {},
   "source": [
    "Understanding the importance of np.random.seed()"
   ]
  },
  {
   "cell_type": "code",
   "execution_count": null,
   "metadata": {},
   "outputs": [],
   "source": [
    "# create a 5x5 array with elements taken from normal distribution of mean 0 and standard deviation 1 \n",
    "# Setting random.seed()\n",
    "np.random.seed(10)\n",
    "x = np.random.normal(0, 1, (5,5))\n",
    "x"
   ]
  },
  {
   "cell_type": "code",
   "execution_count": null,
   "metadata": {},
   "outputs": [],
   "source": [
    "# create a 5x5 array with elements taken from normal distribution of mean 0 and standard deviation 1 \n",
    "x = np.random.normal(0, 1, (5,5))\n",
    "x"
   ]
  },
  {
   "cell_type": "markdown",
   "metadata": {},
   "source": [
    "As you can see x contains different values than we created above since we did not set seed value.\n",
    "With different seed value numpy generates different numbers."
   ]
  },
  {
   "cell_type": "code",
   "execution_count": null,
   "metadata": {},
   "outputs": [],
   "source": [
    "# create a 5x5 array with elements taken from normal distribution of mean 0 and standard deviation 1 \n",
    "np.random.seed(20)\n",
    "x = np.random.normal(0, 1, (5,5))\n",
    "x"
   ]
  },
  {
   "cell_type": "markdown",
   "metadata": {},
   "source": [
    "Set the same seed value if you want to generate same random numbers. \n",
    "Let's try with seed=10."
   ]
  },
  {
   "cell_type": "code",
   "execution_count": null,
   "metadata": {},
   "outputs": [],
   "source": [
    "# create a 5x5 array with elements taken from normal distribution of mean 0 and standard deviation 1 \n",
    "np.random.seed(10)\n",
    "x = np.random.normal(0, 1, (5,5))\n",
    "x"
   ]
  },
  {
   "cell_type": "markdown",
   "metadata": {},
   "source": [
    "seed = 20"
   ]
  },
  {
   "cell_type": "code",
   "execution_count": null,
   "metadata": {
    "scrolled": true
   },
   "outputs": [],
   "source": [
    "# create a 5x5 array with elements taken from normal distribution of mean 0 and standard deviation 1 \n",
    "np.random.seed(20)\n",
    "x = np.random.normal(0, 1, (5,5))\n",
    "x"
   ]
  },
  {
   "cell_type": "code",
   "execution_count": null,
   "metadata": {},
   "outputs": [],
   "source": [
    "# Check the shapes of created numpy arrays\n",
    "print(\"Shape of x is:\", x.shape)"
   ]
  },
  {
   "cell_type": "markdown",
   "metadata": {},
   "source": [
    "#### Array Indexing "
   ]
  },
  {
   "cell_type": "markdown",
   "metadata": {},
   "source": [
    "Indexing in python starts from 0."
   ]
  },
  {
   "cell_type": "code",
   "execution_count": null,
   "metadata": {
    "collapsed": true
   },
   "outputs": [],
   "source": [
    "# Let's create 1-D array with alphabets\n",
    "x = np.array([\"A\", \"B\", \"C\", \"D\", \"E\", \"F\", \"G\"])"
   ]
  },
  {
   "cell_type": "code",
   "execution_count": null,
   "metadata": {},
   "outputs": [],
   "source": [
    "# Get value of first element\n",
    "x[0]"
   ]
  },
  {
   "cell_type": "code",
   "execution_count": null,
   "metadata": {},
   "outputs": [],
   "source": [
    "# Get value at second element\n",
    "x[1]"
   ]
  },
  {
   "cell_type": "code",
   "execution_count": null,
   "metadata": {},
   "outputs": [],
   "source": [
    "# Get value of first element from last \n",
    "x[-1]"
   ]
  },
  {
   "cell_type": "code",
   "execution_count": null,
   "metadata": {},
   "outputs": [],
   "source": [
    "# Get value of second element from last \n",
    "x[-2]"
   ]
  },
  {
   "cell_type": "code",
   "execution_count": null,
   "metadata": {},
   "outputs": [],
   "source": [
    "# Let's create 2-D array\n",
    "np.random.seed(10)\n",
    "y = np.random.normal(0, 1, (2,2))\n",
    "y"
   ]
  },
  {
   "cell_type": "code",
   "execution_count": null,
   "metadata": {},
   "outputs": [],
   "source": [
    "# Get value of 1st row and 1st column\n",
    "y[0, 0]"
   ]
  },
  {
   "cell_type": "code",
   "execution_count": null,
   "metadata": {},
   "outputs": [],
   "source": [
    "# Get value of last row and last column\n",
    "y[-1, -1]"
   ]
  },
  {
   "cell_type": "markdown",
   "metadata": {},
   "source": [
    "#### Array Slicing "
   ]
  },
  {
   "cell_type": "markdown",
   "metadata": {},
   "source": [
    "Access multiple elements of the array "
   ]
  },
  {
   "cell_type": "code",
   "execution_count": null,
   "metadata": {},
   "outputs": [],
   "source": [
    "# Create 1-D array of 20 elements from 10-30\n",
    "x = np.arange(10, 30)\n",
    "x"
   ]
  },
  {
   "cell_type": "code",
   "execution_count": null,
   "metadata": {},
   "outputs": [],
   "source": [
    "# Access elements till 4th position\n",
    "x[ : 5]"
   ]
  },
  {
   "cell_type": "code",
   "execution_count": null,
   "metadata": {},
   "outputs": [],
   "source": [
    "# Access elements from 10th position\n",
    "x[10 : ]"
   ]
  },
  {
   "cell_type": "code",
   "execution_count": null,
   "metadata": {},
   "outputs": [],
   "source": [
    "# Access elements from 14th to 19th position\n",
    "x[14 : 19]"
   ]
  },
  {
   "cell_type": "code",
   "execution_count": null,
   "metadata": {},
   "outputs": [],
   "source": [
    "# Reverse the array\n",
    "x[ : : -1]"
   ]
  },
  {
   "cell_type": "markdown",
   "metadata": {},
   "source": [
    "#### Array Concatenation"
   ]
  },
  {
   "cell_type": "markdown",
   "metadata": {},
   "source": [
    "Array Concatenation = Combining 2 or more arrays, that's it."
   ]
  },
  {
   "cell_type": "code",
   "execution_count": null,
   "metadata": {},
   "outputs": [],
   "source": [
    "# You can concatenate two or more arrays at once.\n",
    "\n",
    "arr_1 = np.array([1,2,3])\n",
    "arr_2 = np.array([4,5,6])\n",
    "arr_3 = np.array(['A','B', 'C'])\n",
    "\n",
    "np.concatenate([arr_1, arr_2, arr_3])\n"
   ]
  },
  {
   "cell_type": "code",
   "execution_count": null,
   "metadata": {},
   "outputs": [],
   "source": [
    "# You can also use this function to create 2-dimensional arrays.\n",
    "\n",
    "matrix = np.array([[\"I\", \"Love\", \"ML\"],[\"not\", \"you\", \"girl\"]])\n",
    "print(matrix)\n",
    "np.concatenate([matrix, matrix])"
   ]
  },
  {
   "cell_type": "code",
   "execution_count": null,
   "metadata": {},
   "outputs": [],
   "source": [
    "# Using its axis parameter, you can define row-wise or column-wise matrix.\n",
    "\n",
    "# Example showing concatinating two 2-d arrays one below the other.\n",
    "\n",
    "concatenated_matrix_axis_0 = np.concatenate([matrix, matrix],axis=0)\n",
    "\n",
    "print(concatenated_matrix_axis_0)\n",
    "\n",
    "print (\" size of concatenated_matrix_axis_0 = \", concatenated_matrix_axis_0.shape)\n"
   ]
  },
  {
   "cell_type": "code",
   "execution_count": null,
   "metadata": {},
   "outputs": [],
   "source": [
    "# Example showing concatinating two 2-d arrays one after/adjacent the other\n",
    "\n",
    "concatenated_matrix_axis_1 = np.concatenate([matrix, matrix],axis=1)\n",
    "\n",
    "print(concatenated_matrix_axis_1)\n",
    "\n",
    "print (\"size of concatenated_matrix_axis_1 =\", concatenated_matrix_axis_1.shape)"
   ]
  },
  {
   "cell_type": "markdown",
   "metadata": {},
   "source": [
    "Until now, we used the concatenation function of arrays of equal dimension. "
   ]
  },
  {
   "cell_type": "markdown",
   "metadata": {},
   "source": [
    "How can we combine a 1-D array and 2-D array."
   ]
  },
  {
   "cell_type": "markdown",
   "metadata": {},
   "source": [
    "np.vstack or np.hstack help us in such situations. "
   ]
  },
  {
   "cell_type": "markdown",
   "metadata": {},
   "source": [
    "Let us see how."
   ]
  },
  {
   "cell_type": "code",
   "execution_count": null,
   "metadata": {},
   "outputs": [],
   "source": [
    "# Stack using vstack\n",
    "\n",
    "x = np.array([9, 10, 11])\n",
    "matrix = np.array([[12, 13, 14],[15, 16, 17]])\n",
    "vstack_example = np.vstack([x, matrix])\n",
    "\n",
    "print(vstack_example)\n",
    "print(\"Shape of stacked array:\", vstack_example.shape)"
   ]
  },
  {
   "cell_type": "code",
   "execution_count": null,
   "metadata": {},
   "outputs": [],
   "source": [
    "# Stack using hstack\n",
    "\n",
    "z = np.array([[0], [0]])\n",
    "hstack_example = np.hstack([matrix, z])\n",
    "\n",
    "print(hstack_example)\n",
    "print(\"Shape of stacked array:\", hstack_example.shape)"
   ]
  },
  {
   "cell_type": "markdown",
   "metadata": {},
   "source": [
    "Excercise: "
   ]
  },
  {
   "cell_type": "markdown",
   "metadata": {},
   "source": [
    "    1) Create a 1-D array and split them into three 1-D arrays.\n",
    "    2) Create a 2-D array of size 10x10 and split them into two 2-D arrays."
   ]
  },
  {
   "cell_type": "markdown",
   "metadata": {},
   "source": [
    "Hint: Explore np.split() and np.vsplit()"
   ]
  },
  {
   "cell_type": "code",
   "execution_count": null,
   "metadata": {
    "collapsed": true
   },
   "outputs": [],
   "source": []
  }
 ],
 "metadata": {
  "anaconda-cloud": {},
  "kernelspec": {
   "display_name": "Python 3",
   "language": "python",
   "name": "python3"
  },
  "language_info": {
   "codemirror_mode": {
    "name": "ipython",
    "version": 3
   },
   "file_extension": ".py",
   "mimetype": "text/x-python",
   "name": "python",
   "nbconvert_exporter": "python",
   "pygments_lexer": "ipython3",
   "version": "3.5.2"
  }
 },
 "nbformat": 4,
 "nbformat_minor": 1
}
