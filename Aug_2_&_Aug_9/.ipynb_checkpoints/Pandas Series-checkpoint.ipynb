{
 "cells": [
  {
   "cell_type": "code",
   "execution_count": 2,
   "metadata": {
    "collapsed": true
   },
   "outputs": [],
   "source": [
    "import pandas as pd\n",
    "import numpy as np"
   ]
  },
  {
   "cell_type": "code",
   "execution_count": 18,
   "metadata": {},
   "outputs": [
    {
     "name": "stdout",
     "output_type": "stream",
     "text": [
      "0    71\n",
      "1    87\n",
      "2     7\n",
      "3    84\n",
      "4    58\n",
      "5    32\n",
      "6    86\n",
      "7    20\n",
      "8    20\n",
      "9    60\n",
      "dtype: int64\n",
      "[71 87  7 84 58 32 86 20 20 60]\n"
     ]
    }
   ],
   "source": [
    "#Creating a series\n",
    "a = np.array(np.random.randint(1,100,10))\n",
    "s = pd.Series(a)\n",
    "print s\n",
    "print s.values"
   ]
  },
  {
   "cell_type": "code",
   "execution_count": 24,
   "metadata": {},
   "outputs": [
    {
     "name": "stdout",
     "output_type": "stream",
     "text": [
      "403    71\n",
      "463    87\n",
      "439     7\n",
      "418    84\n",
      "420    58\n",
      "454    32\n",
      "422    86\n",
      "476    20\n",
      "461    20\n",
      "437    60\n",
      "dtype: int64\n"
     ]
    }
   ],
   "source": [
    "#Giving Custom Indexes\n",
    "s = pd.Series(a,index =np.random.randint(400,500,10))\n",
    "print s"
   ]
  },
  {
   "cell_type": "code",
   "execution_count": 17,
   "metadata": {},
   "outputs": [
    {
     "name": "stdout",
     "output_type": "stream",
     "text": [
      "c    980\n",
      "g    392\n",
      "h    123\n",
      "dtype: int64\n"
     ]
    }
   ],
   "source": [
    "#Creating a Series from a dictionary\n",
    "d = {'h':123,'g':392,'c':980}\n",
    "print pd.Series(d)"
   ]
  },
  {
   "cell_type": "code",
   "execution_count": 27,
   "metadata": {},
   "outputs": [
    {
     "name": "stdout",
     "output_type": "stream",
     "text": [
      "26448193\n",
      "26448193\n"
     ]
    }
   ],
   "source": [
    "#Accessing elemnets in a Series\n",
    "#Using indexes and using values\n",
    "pop_dict = {'Uttar Pradesh': 38332521,'Karnataka': 26448193,'Haryana': 19651127}\n",
    "pop = pd.Series(pop_dict)\n",
    "print pop['Karnataka']\n",
    "print pop[1]"
   ]
  },
  {
   "cell_type": "code",
   "execution_count": 39,
   "metadata": {},
   "outputs": [
    {
     "name": "stdout",
     "output_type": "stream",
     "text": [
      "a    0\n",
      "b    1\n",
      "c    2\n",
      "dtype: int64\n",
      "a    0\n",
      "b    1\n",
      "c    2\n",
      "dtype: int64\n",
      "j    9\n",
      "dtype: int64\n",
      "a    0\n",
      "b    1\n",
      "c    2\n",
      "d    3\n",
      "e    4\n",
      "f    5\n",
      "g    6\n",
      "h    7\n",
      "i    8\n",
      "dtype: int64\n"
     ]
    }
   ],
   "source": [
    "#Retrieving a range\n",
    "s = pd.Series(range(10), index = [x for x in 'abcdefghij'])\n",
    "#The first 3 elements\n",
    "print s[:3]\n",
    "print s[:'c']\n",
    "#last element\n",
    "print s[-1:]\n",
    "#accessing everything but the last element\n",
    "print s[:-1]"
   ]
  },
  {
   "cell_type": "code",
   "execution_count": 43,
   "metadata": {},
   "outputs": [
    {
     "name": "stdout",
     "output_type": "stream",
     "text": [
      "a     0\n",
      "b     2\n",
      "c     4\n",
      "d     6\n",
      "e     8\n",
      "f    10\n",
      "g    12\n",
      "h    14\n",
      "i    16\n",
      "j    18\n",
      "dtype: int64\n",
      "45\n"
     ]
    }
   ],
   "source": [
    "#Applying a function\n",
    "func = lambda x:x*2\n",
    "print s.apply(func)\n",
    "print s.sum()\n"
   ]
  }
 ],
 "metadata": {
  "kernelspec": {
   "display_name": "Python 2",
   "language": "python",
   "name": "python2"
  },
  "language_info": {
   "codemirror_mode": {
    "name": "ipython",
    "version": 2
   },
   "file_extension": ".py",
   "mimetype": "text/x-python",
   "name": "python",
   "nbconvert_exporter": "python",
   "pygments_lexer": "ipython2",
   "version": "2.7.14"
  }
 },
 "nbformat": 4,
 "nbformat_minor": 2
}
