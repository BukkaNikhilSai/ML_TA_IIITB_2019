{
 "cells": [
  {
   "cell_type": "code",
   "execution_count": null,
   "metadata": {
    "collapsed": true
   },
   "outputs": [],
   "source": [
    "import pandas as pd\n",
    "import numpy as np"
   ]
  },
  {
   "cell_type": "code",
   "execution_count": null,
   "metadata": {},
   "outputs": [],
   "source": [
    "#Creating a series\n",
    "a = np.array(np.random.randint(1,100,10))\n",
    "s = pd.Series(a)\n",
    "print s\n",
    "print s.values"
   ]
  },
  {
   "cell_type": "code",
   "execution_count": null,
   "metadata": {},
   "outputs": [],
   "source": [
    "#Giving Custom Indexes\n",
    "s = pd.Series(a,index =np.random.randint(400,500,10))\n",
    "print s"
   ]
  },
  {
   "cell_type": "code",
   "execution_count": null,
   "metadata": {},
   "outputs": [],
   "source": [
    "#Creating a Series from a dictionary\n",
    "d = {'h':123,'g':392,'c':980}\n",
    "print pd.Series(d)"
   ]
  },
  {
   "cell_type": "code",
   "execution_count": null,
   "metadata": {},
   "outputs": [],
   "source": [
    "#Accessing elemnets in a Series\n",
    "#Using indexes and using values\n",
    "pop_dict = {'Uttar Pradesh': 38332521,'Karnataka': 26448193,'Haryana': 19651127}\n",
    "pop = pd.Series(pop_dict)\n",
    "print pop['Karnataka']\n",
    "print pop[1]"
   ]
  },
  {
   "cell_type": "code",
   "execution_count": null,
   "metadata": {},
   "outputs": [],
   "source": [
    "#Retrieving a range\n",
    "s = pd.Series(range(10), index = [x for x in 'abcdefghij'])\n",
    "#The first 3 elements\n",
    "print s[:3]\n",
    "print s[:'c']\n",
    "#last element\n",
    "print s[-1:]\n",
    "#accessing everything but the last element\n",
    "print s[:-1]"
   ]
  },
  {
   "cell_type": "code",
   "execution_count": null,
   "metadata": {},
   "outputs": [],
   "source": [
    "#Applying a function\n",
    "func = lambda x:x*2\n",
    "print s.apply(func)\n",
    "print s.sum()\n"
   ]
  }
 ],
 "metadata": {
  "kernelspec": {
   "display_name": "Python 2",
   "language": "python",
   "name": "python2"
  },
  "language_info": {
   "codemirror_mode": {
    "name": "ipython",
    "version": 2
   },
   "file_extension": ".py",
   "mimetype": "text/x-python",
   "name": "python",
   "nbconvert_exporter": "python",
   "pygments_lexer": "ipython2",
   "version": "2.7.14"
  }
 },
 "nbformat": 4,
 "nbformat_minor": 2
}
