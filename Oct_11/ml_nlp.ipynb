{
 "cells": [
  {
   "cell_type": "markdown",
   "metadata": {},
   "source": [
    "# How to process text for ML algorithms"
   ]
  },
  {
   "cell_type": "markdown",
   "metadata": {},
   "source": [
    "Text cannot be used as it is for input to ML models\n",
    "\n",
    "We need some way of representing text in a numerical format so that a model can understand it."
   ]
  },
  {
   "cell_type": "markdown",
   "metadata": {},
   "source": [
    "Typically, sentences are broken down into tokens (words)\n",
    "\n",
    "Then each token is encoded as integer or floating-point values for use as input to a machine learning algorithm. This is called **feature extraction**"
   ]
  },
  {
   "cell_type": "markdown",
   "metadata": {},
   "source": [
    "### Bag-of-Words Model (BoW)"
   ]
  },
  {
   "cell_type": "markdown",
   "metadata": {},
   "source": [
    "BoW is a popularly used model for representing text documents.\n",
    "\n",
    "This model focuses simply on the occurence information of words in documents and not on any order information.\n",
    "\n",
    "This encoding represents what words are present and to what degree they are present. \n"
   ]
  },
  {
   "cell_type": "code",
   "execution_count": 1,
   "metadata": {},
   "outputs": [],
   "source": [
    "Vocabulary = {'how':0, 'old':1, 'thank':2, 'are':3, 'you':4, 'very':5, 'now':6, 'much':7}\n",
    "\n",
    "doc1 = \"how old are you now\"\n",
    "doc2 = \"thank you very much\"\n",
    "\n",
    "doc1_tokens = [\"how\", \"old\", \"are\", \"you\", \"now\"]\n",
    "doc2_tokens = [\"thank\", \"you\", \"very\", \"much\"]\n",
    "\n",
    "docs = [ [1, 1, 0, 1, 1, 0, 1, 0], \n",
    "         [0, 0, 1, 0, 1, 1, 0, 1] ]"
   ]
  },
  {
   "cell_type": "markdown",
   "metadata": {},
   "source": [
    "Scikit-learn library provides 3 different schemes for achieving BoW."
   ]
  },
  {
   "cell_type": "markdown",
   "metadata": {},
   "source": [
    "#### CountVectorizer"
   ]
  },
  {
   "cell_type": "code",
   "execution_count": 2,
   "metadata": {},
   "outputs": [
    {
     "name": "stdout",
     "output_type": "stream",
     "text": [
      "{u'brown': 0, u'lazy': 4, u'jumped': 3, u'over': 5, u'fox': 2, u'dog': 1, u'quick': 6, u'the': 7}\n",
      "(1, 8)\n",
      "<class 'scipy.sparse.csr.csr_matrix'>\n",
      "[[1 1 1 1 1 1 1 2]]\n"
     ]
    }
   ],
   "source": [
    "from sklearn.feature_extraction.text import CountVectorizer\n",
    "# list of text documents\n",
    "text = [\"The quick brown fox jumped over the lazy dog.\"]\n",
    "# create the transform\n",
    "vectorizer = CountVectorizer()\n",
    "# tokenize and build vocab\n",
    "vectorizer.fit(text)\n",
    "# summarize\n",
    "print(vectorizer.vocabulary_)\n",
    "# encode document\n",
    "vector = vectorizer.transform(text)\n",
    "# summarize encoded vector\n",
    "print(vector.shape)\n",
    "print(type(vector))\n",
    "print(vector.toarray())"
   ]
  },
  {
   "cell_type": "code",
   "execution_count": 3,
   "metadata": {
    "scrolled": true
   },
   "outputs": [
    {
     "name": "stdout",
     "output_type": "stream",
     "text": [
      "[[1 0 1 0 0 0 0 1]]\n"
     ]
    }
   ],
   "source": [
    "text2 = [\"the fox is brown\"]\n",
    "vector = vectorizer.transform(text2)\n",
    "print(vector.toarray())"
   ]
  },
  {
   "cell_type": "markdown",
   "metadata": {},
   "source": [
    "#### TfidfVectorizer"
   ]
  },
  {
   "cell_type": "markdown",
   "metadata": {},
   "source": [
    "Some words occur too frequently!"
   ]
  },
  {
   "cell_type": "markdown",
   "metadata": {},
   "source": [
    "For ex : a, an, the, is, for, to ..."
   ]
  },
  {
   "cell_type": "markdown",
   "metadata": {},
   "source": [
    "However, these words need not add any value to the content of the text documents. \n",
    "\n",
    "To solve, this TF-IDF is very popularly used. "
   ]
  },
  {
   "cell_type": "markdown",
   "metadata": {},
   "source": [
    "TF-IDF is an acronym for **Term Frequency - Inverse Document Frequency**"
   ]
  },
  {
   "cell_type": "markdown",
   "metadata": {},
   "source": [
    "**Term Frequency**: This summarizes how often a given word appears within a document\n",
    "\n",
    "**Inverse Document Frequency**: This downscales words that appear a lot across documents."
   ]
  },
  {
   "cell_type": "markdown",
   "metadata": {},
   "source": [
    "It is a score attributed to each word which takes into account its frequency while discounting its document frequency"
   ]
  },
  {
   "cell_type": "markdown",
   "metadata": {},
   "source": [
    "TF(t) = No of times term t apprears in a document / Total no of terms in the document\n",
    "\n",
    "IDF(t) = ln(Total no of documents / No of documents with term t in it)"
   ]
  },
  {
   "cell_type": "markdown",
   "metadata": {},
   "source": [
    "TF-IDF(t) = TF(t) * IDF(t)"
   ]
  },
  {
   "cell_type": "code",
   "execution_count": 11,
   "metadata": {},
   "outputs": [
    {
     "name": "stdout",
     "output_type": "stream",
     "text": [
      "{u'brown': 0, u'lazy': 4, u'jumped': 3, u'over': 5, u'fox': 2, u'dog': 1, u'quick': 6, u'the': 7}\n",
      "[1.28768207 1.28768207 1.28768207 1.69314718 1.28768207 1.69314718\n",
      " 1.69314718 1.69314718]\n",
      "(1, 8)\n",
      "[[0.24920411 0.24920411 0.24920411 0.32767345 0.24920411 0.32767345\n",
      "  0.32767345 0.65534691]]\n"
     ]
    }
   ],
   "source": [
    "from sklearn.feature_extraction.text import TfidfVectorizer\n",
    "# list of text documents\n",
    "text = [\"The quick brown fox jumped over the lazy dog.\",\n",
    "        \"brown dog\",\n",
    "        \"lazy fox\"]\n",
    "# create the transform\n",
    "vectorizer = TfidfVectorizer()\n",
    "# tokenize and build vocab\n",
    "vectorizer.fit(text)\n",
    "# summarize\n",
    "print(vectorizer.vocabulary_)\n",
    "print(vectorizer.idf_)\n",
    "# encode document\n",
    "vector = vectorizer.transform([text[0]])\n",
    "# summarize encoded vector\n",
    "print(vector.shape)\n",
    "print(vector.toarray())"
   ]
  },
  {
   "cell_type": "markdown",
   "metadata": {},
   "source": [
    "## Salary prediction given job description and location"
   ]
  },
  {
   "cell_type": "code",
   "execution_count": 13,
   "metadata": {},
   "outputs": [
    {
     "name": "stderr",
     "output_type": "stream",
     "text": [
      "/home/vaishali/.local/lib/python2.7/site-packages/sklearn/ensemble/weight_boosting.py:29: DeprecationWarning: numpy.core.umath_tests is an internal NumPy module and should not be imported. It will be removed in a future NumPy release.\n",
      "  from numpy.core.umath_tests import inner1d\n"
     ]
    }
   ],
   "source": [
    "import pandas\n",
    "from sklearn.feature_extraction.text import TfidfVectorizer\n",
    "from sklearn.feature_extraction import DictVectorizer\n",
    "from sklearn.linear_model import LinearRegression, Ridge \n",
    "from sklearn.tree import DecisionTreeClassifier\n",
    "from sklearn.ensemble import RandomForestClassifier\n",
    "from scipy.sparse import hstack\n",
    "from sklearn.metrics import mean_squared_error"
   ]
  },
  {
   "cell_type": "code",
   "execution_count": 17,
   "metadata": {},
   "outputs": [],
   "source": [
    "train_file = 'salary_dataset/salary-train.csv'\n",
    "test_file = 'salary_dataset/salary-test-mini.csv'"
   ]
  },
  {
   "cell_type": "code",
   "execution_count": 18,
   "metadata": {},
   "outputs": [],
   "source": [
    "def get_data(filename):\n",
    "    df = pandas.read_csv(filename)\n",
    "    # For beginning, transform train['FullDescription'] to lowercase using text.lower()\n",
    "    # Then replace everything except the letters and numbers to spaces.\n",
    "    # it will facilitate the further division of the text into words.\n",
    "    df['FullDescription'] = df['FullDescription'].str.lower().replace('[^a-zA-Z0-9]', ' ', regex = True)\n",
    "    \n",
    "    # Replace NaN in LocationNormalized and ContractTime rows to special string 'nan'. \n",
    "    df['LocationNormalized'].fillna('nan', inplace=True)\n",
    "    df['ContractTime'].fillna('nan', inplace=True)\n",
    "    return df"
   ]
  },
  {
   "cell_type": "code",
   "execution_count": 19,
   "metadata": {},
   "outputs": [
    {
     "data": {
      "text/html": [
       "<div>\n",
       "<style scoped>\n",
       "    .dataframe tbody tr th:only-of-type {\n",
       "        vertical-align: middle;\n",
       "    }\n",
       "\n",
       "    .dataframe tbody tr th {\n",
       "        vertical-align: top;\n",
       "    }\n",
       "\n",
       "    .dataframe thead th {\n",
       "        text-align: right;\n",
       "    }\n",
       "</style>\n",
       "<table border=\"1\" class=\"dataframe\">\n",
       "  <thead>\n",
       "    <tr style=\"text-align: right;\">\n",
       "      <th></th>\n",
       "      <th>FullDescription</th>\n",
       "      <th>LocationNormalized</th>\n",
       "      <th>ContractTime</th>\n",
       "      <th>SalaryNormalized</th>\n",
       "    </tr>\n",
       "  </thead>\n",
       "  <tbody>\n",
       "    <tr>\n",
       "      <th>0</th>\n",
       "      <td>international sales manager london     k      ...</td>\n",
       "      <td>London</td>\n",
       "      <td>permanent</td>\n",
       "      <td>33000</td>\n",
       "    </tr>\n",
       "    <tr>\n",
       "      <th>1</th>\n",
       "      <td>an ideal opportunity for an individual that ha...</td>\n",
       "      <td>London</td>\n",
       "      <td>permanent</td>\n",
       "      <td>50000</td>\n",
       "    </tr>\n",
       "    <tr>\n",
       "      <th>2</th>\n",
       "      <td>online content and brand manager   luxury reta...</td>\n",
       "      <td>South East London</td>\n",
       "      <td>permanent</td>\n",
       "      <td>40000</td>\n",
       "    </tr>\n",
       "    <tr>\n",
       "      <th>3</th>\n",
       "      <td>a great local marketleader is seeking a perman...</td>\n",
       "      <td>Dereham</td>\n",
       "      <td>permanent</td>\n",
       "      <td>22500</td>\n",
       "    </tr>\n",
       "    <tr>\n",
       "      <th>4</th>\n",
       "      <td>registered nurse   rgn  nursing home for young...</td>\n",
       "      <td>Sutton Coldfield</td>\n",
       "      <td>nan</td>\n",
       "      <td>20355</td>\n",
       "    </tr>\n",
       "  </tbody>\n",
       "</table>\n",
       "</div>"
      ],
      "text/plain": [
       "                                     FullDescription LocationNormalized  \\\n",
       "0  international sales manager london     k      ...             London   \n",
       "1  an ideal opportunity for an individual that ha...             London   \n",
       "2  online content and brand manager   luxury reta...  South East London   \n",
       "3  a great local marketleader is seeking a perman...            Dereham   \n",
       "4  registered nurse   rgn  nursing home for young...   Sutton Coldfield   \n",
       "\n",
       "  ContractTime  SalaryNormalized  \n",
       "0    permanent             33000  \n",
       "1    permanent             50000  \n",
       "2    permanent             40000  \n",
       "3    permanent             22500  \n",
       "4          nan             20355  "
      ]
     },
     "execution_count": 19,
     "metadata": {},
     "output_type": "execute_result"
    }
   ],
   "source": [
    "train = get_data(train_file)\n",
    "train = train[0:1000]\n",
    "train.head()"
   ]
  },
  {
   "cell_type": "code",
   "execution_count": 20,
   "metadata": {},
   "outputs": [
    {
     "data": {
      "text/html": [
       "<div>\n",
       "<style scoped>\n",
       "    .dataframe tbody tr th:only-of-type {\n",
       "        vertical-align: middle;\n",
       "    }\n",
       "\n",
       "    .dataframe tbody tr th {\n",
       "        vertical-align: top;\n",
       "    }\n",
       "\n",
       "    .dataframe thead th {\n",
       "        text-align: right;\n",
       "    }\n",
       "</style>\n",
       "<table border=\"1\" class=\"dataframe\">\n",
       "  <thead>\n",
       "    <tr style=\"text-align: right;\">\n",
       "      <th></th>\n",
       "      <th>FullDescription</th>\n",
       "      <th>LocationNormalized</th>\n",
       "      <th>ContractTime</th>\n",
       "      <th>SalaryNormalized</th>\n",
       "    </tr>\n",
       "  </thead>\n",
       "  <tbody>\n",
       "    <tr>\n",
       "      <th>0</th>\n",
       "      <td>we currently have a vacancy for an hr project ...</td>\n",
       "      <td>Milton Keynes</td>\n",
       "      <td>contract</td>\n",
       "      <td>NaN</td>\n",
       "    </tr>\n",
       "    <tr>\n",
       "      <th>1</th>\n",
       "      <td>a web developer opportunity has arisen with an...</td>\n",
       "      <td>Manchester</td>\n",
       "      <td>permanent</td>\n",
       "      <td>NaN</td>\n",
       "    </tr>\n",
       "  </tbody>\n",
       "</table>\n",
       "</div>"
      ],
      "text/plain": [
       "                                     FullDescription LocationNormalized  \\\n",
       "0  we currently have a vacancy for an hr project ...      Milton Keynes   \n",
       "1  a web developer opportunity has arisen with an...         Manchester   \n",
       "\n",
       "  ContractTime  SalaryNormalized  \n",
       "0     contract               NaN  \n",
       "1    permanent               NaN  "
      ]
     },
     "execution_count": 20,
     "metadata": {},
     "output_type": "execute_result"
    }
   ],
   "source": [
    "test = get_data(test_file)\n",
    "test.head()"
   ]
  },
  {
   "cell_type": "code",
   "execution_count": 52,
   "metadata": {},
   "outputs": [
    {
     "name": "stdout",
     "output_type": "stream",
     "text": [
      "  (0, 1559)\t0.21428189918183788\n",
      "  (0, 2621)\t0.3262186171735005\n",
      "  (0, 1773)\t0.05109050060808638\n",
      "  (0, 1733)\t0.0674403518838804\n",
      "  (0, 3088)\t0.05631339134961835\n",
      "  (0, 586)\t0.04792028516624542\n",
      "  (0, 872)\t0.10044292949442259\n",
      "  (0, 1793)\t0.2484789762672071\n",
      "  (0, 2145)\t0.1091046487989682\n",
      "  (0, 1388)\t0.13816061799854906\n",
      "  (0, 182)\t0.04680861576769975\n",
      "  (0, 603)\t0.023805149789111916\n",
      "  (0, 195)\t0.2812961389127113\n",
      "  (0, 2010)\t0.030345321008876904\n",
      "  (0, 1989)\t0.05122315324431446\n",
      "  (0, 2987)\t0.15017530372464244\n",
      "  (0, 1654)\t0.058336197919806605\n",
      "  (0, 1470)\t0.13064807656373886\n",
      "  (0, 1083)\t0.057797945188267405\n",
      "  (0, 1792)\t0.03446327365299464\n",
      "  (0, 237)\t0.047645613659024685\n",
      "  (0, 2669)\t0.03918283276395212\n",
      "  (0, 1102)\t0.04679776914655783\n",
      "  (0, 428)\t0.06496764158160212\n",
      "  (0, 858)\t0.02539936067578591\n",
      "  :\t:\n",
      "  (999, 2910)\t0.07853165620880553\n",
      "  (999, 1562)\t0.0930128747539569\n",
      "  (999, 593)\t0.08987680633066734\n",
      "  (999, 2447)\t0.07633600153139086\n",
      "  (999, 1100)\t0.08067617448845865\n",
      "  (999, 777)\t0.14617196529581047\n",
      "  (999, 114)\t0.13428952607797517\n",
      "  (999, 3257)\t0.09501735042767609\n",
      "  (999, 1425)\t0.08825951519506346\n",
      "  (999, 387)\t0.11692493200220273\n",
      "  (999, 835)\t0.12695332730355174\n",
      "  (999, 1509)\t0.09554695852751603\n",
      "  (999, 1715)\t0.07728611299903909\n",
      "  (999, 2147)\t0.09721300510509077\n",
      "  (999, 953)\t0.09116893588135014\n",
      "  (999, 2477)\t0.09839464553398568\n",
      "  (999, 2521)\t0.11692493200220273\n",
      "  (999, 2677)\t0.1143626339719235\n",
      "  (999, 701)\t0.11318099354302862\n",
      "  (999, 715)\t0.11560817718168995\n",
      "  (999, 2196)\t0.09449964464674336\n",
      "  (999, 2067)\t0.11692493200220273\n",
      "  (999, 497)\t0.12139769201724715\n",
      "  (999, 572)\t0.12914898198096642\n",
      "  (999, 1964)\t0.12914898198096642\n",
      "[{'LocationNormalized': 'London', 'ContractTime': 'permanent'}, {'LocationNormalized': 'London', 'ContractTime': 'permanent'}, {'LocationNormalized': 'South East London', 'ContractTime': 'permanent'}, {'LocationNormalized': 'Dereham', 'ContractTime': 'permanent'}, {'LocationNormalized': 'Sutton Coldfield', 'ContractTime': 'nan'}, {'LocationNormalized': 'Crawley', 'ContractTime': 'nan'}, {'LocationNormalized': 'UK', 'ContractTime': 'permanent'}, {'LocationNormalized': 'Bristol', 'ContractTime': 'permanent'}, {'LocationNormalized': 'Central London', 'ContractTime': 'permanent'}, {'LocationNormalized': 'South East London', 'ContractTime': 'permanent'}, {'LocationNormalized': 'Banchory', 'ContractTime': 'contract'}, {'LocationNormalized': 'Gipsy Hill', 'ContractTime': 'permanent'}, {'LocationNormalized': 'Wakefield', 'ContractTime': 'permanent'}, {'LocationNormalized': 'Abingdon', 'ContractTime': 'permanent'}, {'LocationNormalized': 'Northampton', 'ContractTime': 'nan'}, {'LocationNormalized': 'Bradford', 'ContractTime': 'permanent'}, {'LocationNormalized': 'Northamptonshire', 'ContractTime': 'contract'}, {'LocationNormalized': 'London', 'ContractTime': 'permanent'}, {'LocationNormalized': 'Tiverton', 'ContractTime': 'nan'}, {'LocationNormalized': 'Uxbridge', 'ContractTime': 'nan'}, {'LocationNormalized': 'London', 'ContractTime': 'permanent'}, {'LocationNormalized': 'Lancashire', 'ContractTime': 'permanent'}, {'LocationNormalized': 'UK', 'ContractTime': 'permanent'}, {'LocationNormalized': 'Surrey', 'ContractTime': 'contract'}, {'LocationNormalized': 'Bournemouth', 'ContractTime': 'nan'}, {'LocationNormalized': 'Leeds', 'ContractTime': 'permanent'}, {'LocationNormalized': 'South Yorkshire', 'ContractTime': 'permanent'}, {'LocationNormalized': 'Essex', 'ContractTime': 'permanent'}, {'LocationNormalized': 'London', 'ContractTime': 'permanent'}, {'LocationNormalized': 'UK', 'ContractTime': 'permanent'}, {'LocationNormalized': 'Thirsk', 'ContractTime': 'nan'}, {'LocationNormalized': 'South East London', 'ContractTime': 'permanent'}, {'LocationNormalized': 'London', 'ContractTime': 'contract'}, {'LocationNormalized': 'St. Helens', 'ContractTime': 'permanent'}, {'LocationNormalized': 'London', 'ContractTime': 'nan'}, {'LocationNormalized': 'Cardiff', 'ContractTime': 'nan'}, {'LocationNormalized': 'Forres', 'ContractTime': 'nan'}, {'LocationNormalized': 'Oxford', 'ContractTime': 'permanent'}, {'LocationNormalized': 'UK', 'ContractTime': 'permanent'}, {'LocationNormalized': 'Hertfordshire', 'ContractTime': 'permanent'}, {'LocationNormalized': 'UK', 'ContractTime': 'nan'}, {'LocationNormalized': 'Surrey', 'ContractTime': 'contract'}, {'LocationNormalized': 'West London', 'ContractTime': 'nan'}, {'LocationNormalized': 'Sleaford', 'ContractTime': 'contract'}, {'LocationNormalized': 'Bolton', 'ContractTime': 'nan'}, {'LocationNormalized': 'Northampton', 'ContractTime': 'permanent'}, {'LocationNormalized': 'Southampton International Airport', 'ContractTime': 'permanent'}, {'LocationNormalized': 'UK', 'ContractTime': 'contract'}, {'LocationNormalized': 'UK', 'ContractTime': 'permanent'}, {'LocationNormalized': 'West Bromwich', 'ContractTime': 'permanent'}, {'LocationNormalized': 'London', 'ContractTime': 'permanent'}, {'LocationNormalized': 'Edinburgh Technopole', 'ContractTime': 'nan'}, {'LocationNormalized': 'Newcastle Upon Tyne', 'ContractTime': 'permanent'}, {'LocationNormalized': 'Stockport', 'ContractTime': 'nan'}, {'LocationNormalized': 'London', 'ContractTime': 'permanent'}, {'LocationNormalized': 'UK', 'ContractTime': 'permanent'}, {'LocationNormalized': 'York', 'ContractTime': 'nan'}, {'LocationNormalized': 'Bolton', 'ContractTime': 'nan'}, {'LocationNormalized': 'Hampshire', 'ContractTime': 'nan'}, {'LocationNormalized': 'The City', 'ContractTime': 'permanent'}, {'LocationNormalized': 'Tunbridge Wells', 'ContractTime': 'contract'}, {'LocationNormalized': 'Milton Keynes', 'ContractTime': 'permanent'}, {'LocationNormalized': 'Newcastle Upon Tyne', 'ContractTime': 'nan'}, {'LocationNormalized': 'Warwickshire', 'ContractTime': 'contract'}, {'LocationNormalized': 'London', 'ContractTime': 'permanent'}, {'LocationNormalized': 'The City', 'ContractTime': 'permanent'}, {'LocationNormalized': 'North London', 'ContractTime': 'permanent'}, {'LocationNormalized': 'Croydon', 'ContractTime': 'nan'}, {'LocationNormalized': 'Yorkshire and Humberside', 'ContractTime': 'contract'}, {'LocationNormalized': 'Stratford-Upon-Avon', 'ContractTime': 'permanent'}, {'LocationNormalized': 'Camberley', 'ContractTime': 'permanent'}, {'LocationNormalized': 'Lancashire', 'ContractTime': 'permanent'}, {'LocationNormalized': 'London', 'ContractTime': 'permanent'}, {'LocationNormalized': 'UK', 'ContractTime': 'permanent'}, {'LocationNormalized': 'London', 'ContractTime': 'contract'}, {'LocationNormalized': 'South East London', 'ContractTime': 'contract'}, {'LocationNormalized': 'South East London', 'ContractTime': 'permanent'}, {'LocationNormalized': 'London', 'ContractTime': 'permanent'}, {'LocationNormalized': 'Slough', 'ContractTime': 'permanent'}, {'LocationNormalized': 'West Midlands', 'ContractTime': 'contract'}, {'LocationNormalized': 'The City', 'ContractTime': 'nan'}, {'LocationNormalized': 'Hornchurch', 'ContractTime': 'nan'}, {'LocationNormalized': 'London', 'ContractTime': 'nan'}, {'LocationNormalized': 'London', 'ContractTime': 'nan'}, {'LocationNormalized': 'UK', 'ContractTime': 'permanent'}, {'LocationNormalized': 'Cumbria', 'ContractTime': 'contract'}, {'LocationNormalized': 'Leeds', 'ContractTime': 'nan'}, {'LocationNormalized': 'South East London', 'ContractTime': 'permanent'}, {'LocationNormalized': 'London', 'ContractTime': 'nan'}, {'LocationNormalized': 'Bradford', 'ContractTime': 'contract'}, {'LocationNormalized': 'Ipswich', 'ContractTime': 'nan'}, {'LocationNormalized': 'Greater Manchester', 'ContractTime': 'nan'}, {'LocationNormalized': 'Blaenau Gwent', 'ContractTime': 'permanent'}, {'LocationNormalized': 'UK', 'ContractTime': 'permanent'}, {'LocationNormalized': 'Doncaster', 'ContractTime': 'permanent'}, {'LocationNormalized': 'North Lambeth', 'ContractTime': 'permanent'}, {'LocationNormalized': 'Bristol', 'ContractTime': 'permanent'}, {'LocationNormalized': 'UK', 'ContractTime': 'nan'}, {'LocationNormalized': 'Liverpool', 'ContractTime': 'nan'}, {'LocationNormalized': 'Surbiton', 'ContractTime': 'nan'}, {'LocationNormalized': 'UK', 'ContractTime': 'contract'}, {'LocationNormalized': 'UK', 'ContractTime': 'permanent'}, {'LocationNormalized': 'Bristol', 'ContractTime': 'permanent'}, {'LocationNormalized': 'Worcestershire', 'ContractTime': 'permanent'}, {'LocationNormalized': 'East Sussex', 'ContractTime': 'permanent'}, {'LocationNormalized': 'Chesterfield', 'ContractTime': 'contract'}, {'LocationNormalized': 'Sheffield', 'ContractTime': 'permanent'}, {'LocationNormalized': 'UK', 'ContractTime': 'contract'}, {'LocationNormalized': 'London', 'ContractTime': 'permanent'}, {'LocationNormalized': 'Buckinghamshire', 'ContractTime': 'permanent'}, {'LocationNormalized': 'West London', 'ContractTime': 'nan'}, {'LocationNormalized': 'Leeds', 'ContractTime': 'permanent'}, {'LocationNormalized': 'UK', 'ContractTime': 'permanent'}, {'LocationNormalized': 'Manchester', 'ContractTime': 'permanent'}, {'LocationNormalized': 'Avon', 'ContractTime': 'permanent'}, {'LocationNormalized': 'London', 'ContractTime': 'permanent'}, {'LocationNormalized': 'UK', 'ContractTime': 'permanent'}, {'LocationNormalized': 'South East London', 'ContractTime': 'nan'}, {'LocationNormalized': 'London', 'ContractTime': 'permanent'}, {'LocationNormalized': 'Oxford', 'ContractTime': 'nan'}, {'LocationNormalized': 'UK', 'ContractTime': 'permanent'}, {'LocationNormalized': 'Bristol', 'ContractTime': 'nan'}, {'LocationNormalized': 'Loughborough', 'ContractTime': 'permanent'}, {'LocationNormalized': 'London', 'ContractTime': 'nan'}, {'LocationNormalized': 'West Midlands', 'ContractTime': 'permanent'}, {'LocationNormalized': 'Yorkshire and Humberside', 'ContractTime': 'permanent'}, {'LocationNormalized': 'Bradford', 'ContractTime': 'nan'}, {'LocationNormalized': 'South East London', 'ContractTime': 'permanent'}, {'LocationNormalized': 'Oxford', 'ContractTime': 'permanent'}, {'LocationNormalized': 'London', 'ContractTime': 'permanent'}, {'LocationNormalized': 'UK', 'ContractTime': 'permanent'}, {'LocationNormalized': 'Sheffield', 'ContractTime': 'permanent'}, {'LocationNormalized': 'South East London', 'ContractTime': 'permanent'}, {'LocationNormalized': 'Wednesbury', 'ContractTime': 'permanent'}, {'LocationNormalized': 'Chesterfield', 'ContractTime': 'nan'}, {'LocationNormalized': 'Crawley', 'ContractTime': 'permanent'}, {'LocationNormalized': 'UK', 'ContractTime': 'permanent'}, {'LocationNormalized': 'Catterick Garrison', 'ContractTime': 'contract'}, {'LocationNormalized': 'Worcester', 'ContractTime': 'permanent'}, {'LocationNormalized': 'Haye', 'ContractTime': 'nan'}, {'LocationNormalized': 'Reading', 'ContractTime': 'nan'}, {'LocationNormalized': 'Derbyshire', 'ContractTime': 'nan'}, {'LocationNormalized': 'Cambridge', 'ContractTime': 'permanent'}, {'LocationNormalized': 'London', 'ContractTime': 'permanent'}, {'LocationNormalized': 'Harrogate', 'ContractTime': 'permanent'}, {'LocationNormalized': 'Newcastle Upon Tyne', 'ContractTime': 'contract'}, {'LocationNormalized': 'York', 'ContractTime': 'permanent'}, {'LocationNormalized': 'UK', 'ContractTime': 'permanent'}, {'LocationNormalized': 'Stevenage', 'ContractTime': 'permanent'}, {'LocationNormalized': 'Northampton', 'ContractTime': 'contract'}, {'LocationNormalized': 'Stockport', 'ContractTime': 'permanent'}, {'LocationNormalized': 'London', 'ContractTime': 'contract'}, {'LocationNormalized': 'Birmingham', 'ContractTime': 'nan'}, {'LocationNormalized': 'Aberdeen', 'ContractTime': 'permanent'}, {'LocationNormalized': 'UK', 'ContractTime': 'permanent'}, {'LocationNormalized': 'South East London', 'ContractTime': 'permanent'}, {'LocationNormalized': 'UK', 'ContractTime': 'permanent'}, {'LocationNormalized': 'Exeter', 'ContractTime': 'permanent'}, {'LocationNormalized': 'North East England', 'ContractTime': 'nan'}, {'LocationNormalized': 'East Sheen', 'ContractTime': 'permanent'}, {'LocationNormalized': 'Cambridge', 'ContractTime': 'nan'}, {'LocationNormalized': 'UK', 'ContractTime': 'permanent'}, {'LocationNormalized': 'West Midlands', 'ContractTime': 'permanent'}, {'LocationNormalized': 'UK', 'ContractTime': 'permanent'}, {'LocationNormalized': 'Leicestershire', 'ContractTime': 'contract'}, {'LocationNormalized': 'UK', 'ContractTime': 'permanent'}, {'LocationNormalized': 'Bradford', 'ContractTime': 'permanent'}, {'LocationNormalized': 'UK', 'ContractTime': 'permanent'}, {'LocationNormalized': 'Aberdeen', 'ContractTime': 'nan'}, {'LocationNormalized': 'Egham', 'ContractTime': 'permanent'}, {'LocationNormalized': 'London', 'ContractTime': 'permanent'}, {'LocationNormalized': 'South West London', 'ContractTime': 'permanent'}, {'LocationNormalized': 'London', 'ContractTime': 'nan'}, {'LocationNormalized': 'UK', 'ContractTime': 'contract'}, {'LocationNormalized': 'Basingstoke', 'ContractTime': 'nan'}, {'LocationNormalized': 'UK', 'ContractTime': 'nan'}, {'LocationNormalized': 'UK', 'ContractTime': 'nan'}, {'LocationNormalized': 'UK', 'ContractTime': 'contract'}, {'LocationNormalized': 'South Lanarkshire', 'ContractTime': 'permanent'}, {'LocationNormalized': 'West Bromwich', 'ContractTime': 'permanent'}, {'LocationNormalized': 'UK', 'ContractTime': 'permanent'}, {'LocationNormalized': 'Cambridge', 'ContractTime': 'nan'}, {'LocationNormalized': 'Heath', 'ContractTime': 'permanent'}, {'LocationNormalized': 'South East London', 'ContractTime': 'permanent'}, {'LocationNormalized': 'London', 'ContractTime': 'permanent'}, {'LocationNormalized': 'Slough', 'ContractTime': 'permanent'}, {'LocationNormalized': 'Wokingham', 'ContractTime': 'permanent'}, {'LocationNormalized': 'South East London', 'ContractTime': 'permanent'}, {'LocationNormalized': 'Liverpool', 'ContractTime': 'permanent'}, {'LocationNormalized': 'UK', 'ContractTime': 'permanent'}, {'LocationNormalized': 'Solihull', 'ContractTime': 'nan'}, {'LocationNormalized': 'Wandsworth', 'ContractTime': 'permanent'}, {'LocationNormalized': 'Hertfordshire', 'ContractTime': 'permanent'}, {'LocationNormalized': 'Salford', 'ContractTime': 'contract'}, {'LocationNormalized': 'Letchworth Garden City', 'ContractTime': 'permanent'}, {'LocationNormalized': 'UK', 'ContractTime': 'permanent'}, {'LocationNormalized': 'Birmingham', 'ContractTime': 'nan'}, {'LocationNormalized': 'Torquay', 'ContractTime': 'permanent'}, {'LocationNormalized': 'UK', 'ContractTime': 'permanent'}, {'LocationNormalized': 'Bracknell', 'ContractTime': 'nan'}, {'LocationNormalized': 'Salisbury', 'ContractTime': 'nan'}, {'LocationNormalized': 'London', 'ContractTime': 'contract'}, {'LocationNormalized': 'Basingstoke', 'ContractTime': 'permanent'}, {'LocationNormalized': 'Covent Garden', 'ContractTime': 'permanent'}, {'LocationNormalized': 'UK', 'ContractTime': 'permanent'}, {'LocationNormalized': 'East Sheen', 'ContractTime': 'nan'}, {'LocationNormalized': 'Woking', 'ContractTime': 'nan'}, {'LocationNormalized': 'Avon', 'ContractTime': 'permanent'}, {'LocationNormalized': 'Letchworth Garden City', 'ContractTime': 'permanent'}, {'LocationNormalized': 'UK', 'ContractTime': 'nan'}, {'LocationNormalized': 'London', 'ContractTime': 'contract'}, {'LocationNormalized': 'North East England', 'ContractTime': 'permanent'}, {'LocationNormalized': 'South East London', 'ContractTime': 'permanent'}, {'LocationNormalized': 'South East London', 'ContractTime': 'permanent'}, {'LocationNormalized': 'The City', 'ContractTime': 'permanent'}, {'LocationNormalized': 'Dorset', 'ContractTime': 'permanent'}, {'LocationNormalized': 'UK', 'ContractTime': 'contract'}, {'LocationNormalized': 'Gillingham', 'ContractTime': 'permanent'}, {'LocationNormalized': 'Hampshire', 'ContractTime': 'permanent'}, {'LocationNormalized': 'UK', 'ContractTime': 'permanent'}, {'LocationNormalized': 'UK', 'ContractTime': 'permanent'}, {'LocationNormalized': 'Exeter', 'ContractTime': 'nan'}, {'LocationNormalized': 'London', 'ContractTime': 'nan'}, {'LocationNormalized': 'London', 'ContractTime': 'nan'}, {'LocationNormalized': 'Peterborough', 'ContractTime': 'permanent'}, {'LocationNormalized': 'Millom', 'ContractTime': 'nan'}, {'LocationNormalized': 'Northern Ireland', 'ContractTime': 'permanent'}, {'LocationNormalized': 'UK', 'ContractTime': 'permanent'}, {'LocationNormalized': 'Brighton', 'ContractTime': 'permanent'}, {'LocationNormalized': 'Leicester', 'ContractTime': 'nan'}, {'LocationNormalized': 'Hook', 'ContractTime': 'nan'}, {'LocationNormalized': 'West End', 'ContractTime': 'permanent'}, {'LocationNormalized': 'UK', 'ContractTime': 'contract'}, {'LocationNormalized': 'UK', 'ContractTime': 'permanent'}, {'LocationNormalized': 'Chester', 'ContractTime': 'nan'}, {'LocationNormalized': 'UK', 'ContractTime': 'permanent'}, {'LocationNormalized': 'Lancashire', 'ContractTime': 'permanent'}, {'LocationNormalized': 'Leeds', 'ContractTime': 'nan'}, {'LocationNormalized': 'Berkshire', 'ContractTime': 'permanent'}, {'LocationNormalized': 'North East England', 'ContractTime': 'nan'}, {'LocationNormalized': 'UK', 'ContractTime': 'permanent'}, {'LocationNormalized': 'London', 'ContractTime': 'nan'}, {'LocationNormalized': 'Boldon Colliery', 'ContractTime': 'permanent'}, {'LocationNormalized': 'UK', 'ContractTime': 'permanent'}, {'LocationNormalized': 'The City', 'ContractTime': 'nan'}, {'LocationNormalized': 'Wiltshire', 'ContractTime': 'permanent'}, {'LocationNormalized': 'London', 'ContractTime': 'permanent'}, {'LocationNormalized': 'London', 'ContractTime': 'permanent'}, {'LocationNormalized': 'London', 'ContractTime': 'permanent'}, {'LocationNormalized': 'Reading', 'ContractTime': 'nan'}, {'LocationNormalized': 'London', 'ContractTime': 'permanent'}, {'LocationNormalized': 'Leicestershire', 'ContractTime': 'permanent'}, {'LocationNormalized': 'Manchester', 'ContractTime': 'nan'}, {'LocationNormalized': 'Hexham', 'ContractTime': 'nan'}, {'LocationNormalized': 'Bedfordshire', 'ContractTime': 'contract'}, {'LocationNormalized': 'Surrey', 'ContractTime': 'permanent'}, {'LocationNormalized': 'North West England', 'ContractTime': 'nan'}, {'LocationNormalized': 'Melbourne', 'ContractTime': 'contract'}, {'LocationNormalized': 'Central London', 'ContractTime': 'permanent'}, {'LocationNormalized': 'UK', 'ContractTime': 'permanent'}, {'LocationNormalized': 'Leicestershire', 'ContractTime': 'permanent'}, {'LocationNormalized': 'Chertsey', 'ContractTime': 'nan'}, {'LocationNormalized': 'Hampshire', 'ContractTime': 'nan'}, {'LocationNormalized': 'East Sheen', 'ContractTime': 'permanent'}, {'LocationNormalized': 'South West London', 'ContractTime': 'permanent'}, {'LocationNormalized': 'Leicestershire', 'ContractTime': 'contract'}, {'LocationNormalized': 'London', 'ContractTime': 'permanent'}, {'LocationNormalized': 'Herne Bay', 'ContractTime': 'nan'}, {'LocationNormalized': 'UK', 'ContractTime': 'permanent'}, {'LocationNormalized': 'UK', 'ContractTime': 'permanent'}, {'LocationNormalized': 'UK', 'ContractTime': 'permanent'}, {'LocationNormalized': 'Letchworth Garden City', 'ContractTime': 'permanent'}, {'LocationNormalized': 'Dartford', 'ContractTime': 'permanent'}, {'LocationNormalized': 'UK', 'ContractTime': 'permanent'}, {'LocationNormalized': 'Fife', 'ContractTime': 'permanent'}, {'LocationNormalized': 'Belfast', 'ContractTime': 'permanent'}, {'LocationNormalized': 'London', 'ContractTime': 'permanent'}, {'LocationNormalized': 'UK', 'ContractTime': 'permanent'}, {'LocationNormalized': 'The City', 'ContractTime': 'permanent'}, {'LocationNormalized': 'The City', 'ContractTime': 'nan'}, {'LocationNormalized': 'Bolton', 'ContractTime': 'nan'}, {'LocationNormalized': 'UK', 'ContractTime': 'permanent'}, {'LocationNormalized': 'Guildford', 'ContractTime': 'nan'}, {'LocationNormalized': 'Cobham', 'ContractTime': 'permanent'}, {'LocationNormalized': 'Kent', 'ContractTime': 'contract'}, {'LocationNormalized': 'UK', 'ContractTime': 'permanent'}, {'LocationNormalized': 'London', 'ContractTime': 'permanent'}, {'LocationNormalized': 'Sheffield', 'ContractTime': 'permanent'}, {'LocationNormalized': 'London', 'ContractTime': 'permanent'}, {'LocationNormalized': 'Oldham', 'ContractTime': 'contract'}, {'LocationNormalized': 'Crawley', 'ContractTime': 'permanent'}, {'LocationNormalized': 'London', 'ContractTime': 'permanent'}, {'LocationNormalized': 'UK', 'ContractTime': 'nan'}, {'LocationNormalized': 'UK', 'ContractTime': 'permanent'}, {'LocationNormalized': 'Welwyn Garden City', 'ContractTime': 'permanent'}, {'LocationNormalized': 'UK', 'ContractTime': 'permanent'}, {'LocationNormalized': 'London', 'ContractTime': 'nan'}, {'LocationNormalized': 'Boston', 'ContractTime': 'nan'}, {'LocationNormalized': 'UK', 'ContractTime': 'permanent'}, {'LocationNormalized': 'South East London', 'ContractTime': 'permanent'}, {'LocationNormalized': 'Manchester', 'ContractTime': 'nan'}, {'LocationNormalized': 'Slough', 'ContractTime': 'permanent'}, {'LocationNormalized': 'Brighton', 'ContractTime': 'permanent'}, {'LocationNormalized': 'Central London', 'ContractTime': 'nan'}, {'LocationNormalized': 'London', 'ContractTime': 'permanent'}, {'LocationNormalized': 'South East London', 'ContractTime': 'permanent'}, {'LocationNormalized': 'Liverpool', 'ContractTime': 'permanent'}, {'LocationNormalized': 'Macclesfield', 'ContractTime': 'nan'}, {'LocationNormalized': 'Leiston', 'ContractTime': 'contract'}, {'LocationNormalized': 'Milton Keynes', 'ContractTime': 'permanent'}, {'LocationNormalized': 'Henley-On-Thames', 'ContractTime': 'nan'}, {'LocationNormalized': 'Wiltshire', 'ContractTime': 'permanent'}, {'LocationNormalized': 'UK', 'ContractTime': 'permanent'}, {'LocationNormalized': 'East Sheen', 'ContractTime': 'permanent'}, {'LocationNormalized': 'Gloucester', 'ContractTime': 'permanent'}, {'LocationNormalized': 'UK', 'ContractTime': 'contract'}, {'LocationNormalized': 'South East London', 'ContractTime': 'permanent'}, {'LocationNormalized': 'Catterick Garrison', 'ContractTime': 'nan'}, {'LocationNormalized': 'Workington', 'ContractTime': 'nan'}, {'LocationNormalized': 'Manchester Science Park', 'ContractTime': 'permanent'}, {'LocationNormalized': 'Gloucestershire', 'ContractTime': 'permanent'}, {'LocationNormalized': 'Merseyside', 'ContractTime': 'permanent'}, {'LocationNormalized': 'South East London', 'ContractTime': 'nan'}, {'LocationNormalized': 'Northamptonshire', 'ContractTime': 'contract'}, {'LocationNormalized': 'Bristol', 'ContractTime': 'permanent'}, {'LocationNormalized': 'Crewe', 'ContractTime': 'nan'}, {'LocationNormalized': 'Cambridge', 'ContractTime': 'permanent'}, {'LocationNormalized': 'London', 'ContractTime': 'permanent'}, {'LocationNormalized': 'UK', 'ContractTime': 'permanent'}, {'LocationNormalized': 'UK', 'ContractTime': 'permanent'}, {'LocationNormalized': 'Edinburgh', 'ContractTime': 'permanent'}, {'LocationNormalized': 'South East London', 'ContractTime': 'contract'}, {'LocationNormalized': 'London', 'ContractTime': 'nan'}, {'LocationNormalized': 'UK', 'ContractTime': 'permanent'}, {'LocationNormalized': 'Newcastle Upon Tyne', 'ContractTime': 'permanent'}, {'LocationNormalized': 'Llandudno', 'ContractTime': 'nan'}, {'LocationNormalized': 'London', 'ContractTime': 'nan'}, {'LocationNormalized': 'UK', 'ContractTime': 'permanent'}, {'LocationNormalized': 'St. Albans', 'ContractTime': 'permanent'}, {'LocationNormalized': 'Leicestershire', 'ContractTime': 'permanent'}, {'LocationNormalized': 'Leeds', 'ContractTime': 'permanent'}, {'LocationNormalized': 'Durham', 'ContractTime': 'nan'}, {'LocationNormalized': 'Surrey', 'ContractTime': 'permanent'}, {'LocationNormalized': 'The City', 'ContractTime': 'permanent'}, {'LocationNormalized': 'Knutsford', 'ContractTime': 'permanent'}, {'LocationNormalized': 'UK', 'ContractTime': 'permanent'}, {'LocationNormalized': 'Tunbridge Wells', 'ContractTime': 'nan'}, {'LocationNormalized': 'Liverpool', 'ContractTime': 'permanent'}, {'LocationNormalized': 'Aberdeen', 'ContractTime': 'nan'}, {'LocationNormalized': 'UK', 'ContractTime': 'permanent'}, {'LocationNormalized': 'North West London', 'ContractTime': 'permanent'}, {'LocationNormalized': 'UK', 'ContractTime': 'contract'}, {'LocationNormalized': 'London', 'ContractTime': 'permanent'}, {'LocationNormalized': 'Skipton', 'ContractTime': 'nan'}, {'LocationNormalized': 'UK', 'ContractTime': 'permanent'}, {'LocationNormalized': 'UK', 'ContractTime': 'permanent'}, {'LocationNormalized': 'Lincolnshire', 'ContractTime': 'permanent'}, {'LocationNormalized': 'Worksop', 'ContractTime': 'permanent'}, {'LocationNormalized': 'Harrogate', 'ContractTime': 'nan'}, {'LocationNormalized': 'Norfolk', 'ContractTime': 'contract'}, {'LocationNormalized': 'Haywards Heath', 'ContractTime': 'permanent'}, {'LocationNormalized': 'West Midlands', 'ContractTime': 'permanent'}, {'LocationNormalized': 'Oxfordshire', 'ContractTime': 'permanent'}, {'LocationNormalized': 'Northern Ireland', 'ContractTime': 'nan'}, {'LocationNormalized': 'Chorley', 'ContractTime': 'permanent'}, {'LocationNormalized': 'The City', 'ContractTime': 'permanent'}, {'LocationNormalized': 'South East London', 'ContractTime': 'nan'}, {'LocationNormalized': 'Beaconsfield', 'ContractTime': 'contract'}, {'LocationNormalized': 'East Sheen', 'ContractTime': 'permanent'}, {'LocationNormalized': 'The City', 'ContractTime': 'permanent'}, {'LocationNormalized': 'East Sheen', 'ContractTime': 'nan'}, {'LocationNormalized': 'UK', 'ContractTime': 'permanent'}, {'LocationNormalized': 'London', 'ContractTime': 'nan'}, {'LocationNormalized': 'London', 'ContractTime': 'permanent'}, {'LocationNormalized': 'London', 'ContractTime': 'nan'}, {'LocationNormalized': 'Manchester', 'ContractTime': 'permanent'}, {'LocationNormalized': 'Cumbria', 'ContractTime': 'contract'}, {'LocationNormalized': 'UK', 'ContractTime': 'permanent'}, {'LocationNormalized': 'Northampton', 'ContractTime': 'nan'}, {'LocationNormalized': 'Letchworth Garden City', 'ContractTime': 'permanent'}, {'LocationNormalized': 'Hampshire', 'ContractTime': 'permanent'}, {'LocationNormalized': 'Harrogate', 'ContractTime': 'permanent'}, {'LocationNormalized': 'Chesterfield', 'ContractTime': 'permanent'}, {'LocationNormalized': 'Cheshire', 'ContractTime': 'nan'}, {'LocationNormalized': 'Exeter', 'ContractTime': 'permanent'}, {'LocationNormalized': 'London', 'ContractTime': 'nan'}, {'LocationNormalized': 'UK', 'ContractTime': 'contract'}, {'LocationNormalized': 'South East London', 'ContractTime': 'permanent'}, {'LocationNormalized': 'UK', 'ContractTime': 'contract'}, {'LocationNormalized': 'Bristol', 'ContractTime': 'permanent'}, {'LocationNormalized': 'Oxfordshire', 'ContractTime': 'permanent'}, {'LocationNormalized': 'Forfar', 'ContractTime': 'permanent'}, {'LocationNormalized': 'Northampton', 'ContractTime': 'permanent'}, {'LocationNormalized': 'Kettering', 'ContractTime': 'permanent'}, {'LocationNormalized': 'North East England', 'ContractTime': 'permanent'}, {'LocationNormalized': 'Leicester', 'ContractTime': 'nan'}, {'LocationNormalized': 'UK', 'ContractTime': 'nan'}, {'LocationNormalized': 'Stoke-On-Trent', 'ContractTime': 'permanent'}, {'LocationNormalized': 'Derby', 'ContractTime': 'nan'}, {'LocationNormalized': 'South East London', 'ContractTime': 'permanent'}, {'LocationNormalized': 'UK', 'ContractTime': 'permanent'}, {'LocationNormalized': 'Milton Keynes', 'ContractTime': 'contract'}, {'LocationNormalized': 'Reading', 'ContractTime': 'nan'}, {'LocationNormalized': 'Reading', 'ContractTime': 'contract'}, {'LocationNormalized': 'UK', 'ContractTime': 'contract'}, {'LocationNormalized': 'Cheltenham', 'ContractTime': 'permanent'}, {'LocationNormalized': 'UK', 'ContractTime': 'permanent'}, {'LocationNormalized': 'Derby', 'ContractTime': 'permanent'}, {'LocationNormalized': 'UK', 'ContractTime': 'contract'}, {'LocationNormalized': 'Kent', 'ContractTime': 'permanent'}, {'LocationNormalized': 'UK', 'ContractTime': 'nan'}, {'LocationNormalized': 'UK', 'ContractTime': 'permanent'}, {'LocationNormalized': 'London', 'ContractTime': 'permanent'}, {'LocationNormalized': 'West London', 'ContractTime': 'permanent'}, {'LocationNormalized': 'UK', 'ContractTime': 'permanent'}, {'LocationNormalized': 'UK', 'ContractTime': 'permanent'}, {'LocationNormalized': 'Great Yarmouth', 'ContractTime': 'permanent'}, {'LocationNormalized': 'Devon', 'ContractTime': 'contract'}, {'LocationNormalized': 'The City', 'ContractTime': 'permanent'}, {'LocationNormalized': 'London', 'ContractTime': 'permanent'}, {'LocationNormalized': 'London', 'ContractTime': 'permanent'}, {'LocationNormalized': 'Belfast', 'ContractTime': 'permanent'}, {'LocationNormalized': 'South Elmsall', 'ContractTime': 'nan'}, {'LocationNormalized': 'Bradford', 'ContractTime': 'nan'}, {'LocationNormalized': 'Wales', 'ContractTime': 'permanent'}, {'LocationNormalized': 'The City', 'ContractTime': 'permanent'}, {'LocationNormalized': 'UK', 'ContractTime': 'permanent'}, {'LocationNormalized': 'UK', 'ContractTime': 'permanent'}, {'LocationNormalized': 'Leicestershire', 'ContractTime': 'permanent'}, {'LocationNormalized': 'West Yorkshire', 'ContractTime': 'nan'}, {'LocationNormalized': 'UK', 'ContractTime': 'permanent'}, {'LocationNormalized': 'UK', 'ContractTime': 'permanent'}, {'LocationNormalized': 'London', 'ContractTime': 'nan'}, {'LocationNormalized': 'Dulwich', 'ContractTime': 'contract'}, {'LocationNormalized': 'London', 'ContractTime': 'permanent'}, {'LocationNormalized': 'Liverpool', 'ContractTime': 'nan'}, {'LocationNormalized': 'UK', 'ContractTime': 'permanent'}, {'LocationNormalized': 'Greenhithe', 'ContractTime': 'permanent'}, {'LocationNormalized': 'London', 'ContractTime': 'permanent'}, {'LocationNormalized': 'Eastern England', 'ContractTime': 'permanent'}, {'LocationNormalized': 'UK', 'ContractTime': 'permanent'}, {'LocationNormalized': 'UK', 'ContractTime': 'permanent'}, {'LocationNormalized': 'Stanford-Le-Hope', 'ContractTime': 'nan'}, {'LocationNormalized': 'South East London', 'ContractTime': 'permanent'}, {'LocationNormalized': 'UK', 'ContractTime': 'permanent'}, {'LocationNormalized': 'West Midlands', 'ContractTime': 'permanent'}, {'LocationNormalized': 'The City', 'ContractTime': 'permanent'}, {'LocationNormalized': 'East Midlands', 'ContractTime': 'permanent'}, {'LocationNormalized': 'Lancashire', 'ContractTime': 'permanent'}, {'LocationNormalized': 'Hucknall', 'ContractTime': 'permanent'}, {'LocationNormalized': 'South East London', 'ContractTime': 'permanent'}, {'LocationNormalized': 'West Midlands', 'ContractTime': 'permanent'}, {'LocationNormalized': 'Ashby-De-La-Zouch', 'ContractTime': 'permanent'}, {'LocationNormalized': 'York', 'ContractTime': 'permanent'}, {'LocationNormalized': 'Gloucestershire', 'ContractTime': 'permanent'}, {'LocationNormalized': 'Cheshire', 'ContractTime': 'permanent'}, {'LocationNormalized': 'Hampshire', 'ContractTime': 'permanent'}, {'LocationNormalized': 'Keswick', 'ContractTime': 'nan'}, {'LocationNormalized': 'Crewe', 'ContractTime': 'nan'}, {'LocationNormalized': 'High Wycombe', 'ContractTime': 'permanent'}, {'LocationNormalized': 'UK', 'ContractTime': 'permanent'}, {'LocationNormalized': 'London', 'ContractTime': 'permanent'}, {'LocationNormalized': 'Stirling', 'ContractTime': 'permanent'}, {'LocationNormalized': 'UK', 'ContractTime': 'permanent'}, {'LocationNormalized': 'London', 'ContractTime': 'nan'}, {'LocationNormalized': 'Norwich', 'ContractTime': 'nan'}, {'LocationNormalized': 'UK', 'ContractTime': 'permanent'}, {'LocationNormalized': 'The City', 'ContractTime': 'permanent'}, {'LocationNormalized': 'UK', 'ContractTime': 'permanent'}, {'LocationNormalized': 'Hertfordshire', 'ContractTime': 'nan'}, {'LocationNormalized': 'Manchester', 'ContractTime': 'permanent'}, {'LocationNormalized': 'Liverpool', 'ContractTime': 'nan'}, {'LocationNormalized': 'London', 'ContractTime': 'nan'}, {'LocationNormalized': 'London', 'ContractTime': 'permanent'}, {'LocationNormalized': 'Derby', 'ContractTime': 'contract'}, {'LocationNormalized': 'London', 'ContractTime': 'permanent'}, {'LocationNormalized': 'East Grinstead', 'ContractTime': 'permanent'}, {'LocationNormalized': 'Chippenham', 'ContractTime': 'permanent'}, {'LocationNormalized': 'Glasgow', 'ContractTime': 'nan'}, {'LocationNormalized': 'Bracknell', 'ContractTime': 'permanent'}, {'LocationNormalized': 'The City', 'ContractTime': 'permanent'}, {'LocationNormalized': 'UK', 'ContractTime': 'permanent'}, {'LocationNormalized': 'Coventry', 'ContractTime': 'nan'}, {'LocationNormalized': 'London', 'ContractTime': 'permanent'}, {'LocationNormalized': 'West Yorkshire', 'ContractTime': 'permanent'}, {'LocationNormalized': 'Kent', 'ContractTime': 'contract'}, {'LocationNormalized': 'Brighton', 'ContractTime': 'contract'}, {'LocationNormalized': 'London', 'ContractTime': 'permanent'}, {'LocationNormalized': 'UK', 'ContractTime': 'permanent'}, {'LocationNormalized': 'Reading', 'ContractTime': 'permanent'}, {'LocationNormalized': 'Westminster', 'ContractTime': 'permanent'}, {'LocationNormalized': 'UK', 'ContractTime': 'permanent'}, {'LocationNormalized': 'Leeds', 'ContractTime': 'permanent'}, {'LocationNormalized': 'Aylesbury', 'ContractTime': 'nan'}, {'LocationNormalized': 'London', 'ContractTime': 'nan'}, {'LocationNormalized': 'Manchester', 'ContractTime': 'nan'}, {'LocationNormalized': \"Shepherd's Bush\", 'ContractTime': 'nan'}, {'LocationNormalized': 'Reading', 'ContractTime': 'nan'}, {'LocationNormalized': 'Preston', 'ContractTime': 'permanent'}, {'LocationNormalized': 'Liverpool', 'ContractTime': 'nan'}, {'LocationNormalized': 'Newcastle Upon Tyne', 'ContractTime': 'permanent'}, {'LocationNormalized': 'Widnes', 'ContractTime': 'nan'}, {'LocationNormalized': 'UK', 'ContractTime': 'permanent'}, {'LocationNormalized': 'South East London', 'ContractTime': 'contract'}, {'LocationNormalized': 'South East London', 'ContractTime': 'permanent'}, {'LocationNormalized': 'Aberdeen', 'ContractTime': 'permanent'}, {'LocationNormalized': 'Buckinghamshire', 'ContractTime': 'permanent'}, {'LocationNormalized': 'UK', 'ContractTime': 'permanent'}, {'LocationNormalized': 'UK', 'ContractTime': 'contract'}, {'LocationNormalized': 'UK', 'ContractTime': 'nan'}, {'LocationNormalized': 'Stockport', 'ContractTime': 'nan'}, {'LocationNormalized': 'London', 'ContractTime': 'nan'}, {'LocationNormalized': 'Leatherhead', 'ContractTime': 'permanent'}, {'LocationNormalized': 'North Yorkshire', 'ContractTime': 'permanent'}, {'LocationNormalized': 'Swindon', 'ContractTime': 'permanent'}, {'LocationNormalized': 'UK', 'ContractTime': 'contract'}, {'LocationNormalized': 'West Sussex', 'ContractTime': 'permanent'}, {'LocationNormalized': 'Gateshead', 'ContractTime': 'permanent'}, {'LocationNormalized': 'Oxfordshire', 'ContractTime': 'contract'}, {'LocationNormalized': 'London', 'ContractTime': 'contract'}, {'LocationNormalized': 'London', 'ContractTime': 'permanent'}, {'LocationNormalized': 'Warminster', 'ContractTime': 'permanent'}, {'LocationNormalized': 'The City', 'ContractTime': 'permanent'}, {'LocationNormalized': 'Huntingdon', 'ContractTime': 'permanent'}, {'LocationNormalized': 'Lancing', 'ContractTime': 'contract'}, {'LocationNormalized': 'Surrey', 'ContractTime': 'nan'}, {'LocationNormalized': 'Manchester', 'ContractTime': 'nan'}, {'LocationNormalized': 'Durham', 'ContractTime': 'contract'}, {'LocationNormalized': 'Essex', 'ContractTime': 'permanent'}, {'LocationNormalized': 'Marlow', 'ContractTime': 'contract'}, {'LocationNormalized': 'Leeds', 'ContractTime': 'nan'}, {'LocationNormalized': 'Cheshire', 'ContractTime': 'permanent'}, {'LocationNormalized': 'UK', 'ContractTime': 'permanent'}, {'LocationNormalized': 'London', 'ContractTime': 'contract'}, {'LocationNormalized': 'London', 'ContractTime': 'nan'}, {'LocationNormalized': 'Bedfordshire', 'ContractTime': 'permanent'}, {'LocationNormalized': 'UK', 'ContractTime': 'contract'}, {'LocationNormalized': 'Hastings', 'ContractTime': 'permanent'}, {'LocationNormalized': 'UK', 'ContractTime': 'contract'}, {'LocationNormalized': 'Romford', 'ContractTime': 'permanent'}, {'LocationNormalized': 'London', 'ContractTime': 'nan'}, {'LocationNormalized': 'Essex', 'ContractTime': 'contract'}, {'LocationNormalized': 'Birmingham', 'ContractTime': 'nan'}, {'LocationNormalized': 'London', 'ContractTime': 'nan'}, {'LocationNormalized': 'UK', 'ContractTime': 'permanent'}, {'LocationNormalized': 'Edinburgh Technopole', 'ContractTime': 'nan'}, {'LocationNormalized': 'Tamworth', 'ContractTime': 'permanent'}, {'LocationNormalized': 'Reading', 'ContractTime': 'permanent'}, {'LocationNormalized': 'West Yorkshire', 'ContractTime': 'permanent'}, {'LocationNormalized': 'London', 'ContractTime': 'permanent'}, {'LocationNormalized': 'London', 'ContractTime': 'permanent'}, {'LocationNormalized': 'Solihull', 'ContractTime': 'permanent'}, {'LocationNormalized': 'London', 'ContractTime': 'permanent'}, {'LocationNormalized': 'UK', 'ContractTime': 'contract'}, {'LocationNormalized': 'South East London', 'ContractTime': 'contract'}, {'LocationNormalized': 'Shipley', 'ContractTime': 'permanent'}, {'LocationNormalized': 'London', 'ContractTime': 'permanent'}, {'LocationNormalized': 'Stafford', 'ContractTime': 'permanent'}, {'LocationNormalized': 'UK', 'ContractTime': 'permanent'}, {'LocationNormalized': 'Aldershot', 'ContractTime': 'permanent'}, {'LocationNormalized': 'Kent', 'ContractTime': 'nan'}, {'LocationNormalized': 'South Lanarkshire', 'ContractTime': 'permanent'}, {'LocationNormalized': 'South East England', 'ContractTime': 'nan'}, {'LocationNormalized': 'Dorset', 'ContractTime': 'permanent'}, {'LocationNormalized': 'London', 'ContractTime': 'permanent'}, {'LocationNormalized': 'Chorley', 'ContractTime': 'permanent'}, {'LocationNormalized': 'Bournemouth', 'ContractTime': 'permanent'}, {'LocationNormalized': 'London', 'ContractTime': 'nan'}, {'LocationNormalized': 'South East London', 'ContractTime': 'permanent'}, {'LocationNormalized': 'UK', 'ContractTime': 'permanent'}, {'LocationNormalized': 'Suffolk', 'ContractTime': 'nan'}, {'LocationNormalized': 'Motherwell', 'ContractTime': 'nan'}, {'LocationNormalized': 'Milton Keynes', 'ContractTime': 'nan'}, {'LocationNormalized': 'UK', 'ContractTime': 'contract'}, {'LocationNormalized': 'South East London', 'ContractTime': 'permanent'}, {'LocationNormalized': 'London', 'ContractTime': 'nan'}, {'LocationNormalized': 'Sheffield', 'ContractTime': 'contract'}, {'LocationNormalized': 'South East London', 'ContractTime': 'permanent'}, {'LocationNormalized': 'Manchester', 'ContractTime': 'permanent'}, {'LocationNormalized': 'Chorley', 'ContractTime': 'contract'}, {'LocationNormalized': 'London', 'ContractTime': 'permanent'}, {'LocationNormalized': 'Bristol', 'ContractTime': 'nan'}, {'LocationNormalized': 'Haywards Heath', 'ContractTime': 'nan'}, {'LocationNormalized': 'Burton-On-Trent', 'ContractTime': 'contract'}, {'LocationNormalized': 'London', 'ContractTime': 'nan'}, {'LocationNormalized': 'Hove', 'ContractTime': 'permanent'}, {'LocationNormalized': 'UK', 'ContractTime': 'contract'}, {'LocationNormalized': 'Central London', 'ContractTime': 'permanent'}, {'LocationNormalized': 'UK', 'ContractTime': 'permanent'}, {'LocationNormalized': 'North Ewster', 'ContractTime': 'permanent'}, {'LocationNormalized': 'Nottingham', 'ContractTime': 'permanent'}, {'LocationNormalized': 'London', 'ContractTime': 'permanent'}, {'LocationNormalized': 'Weybridge', 'ContractTime': 'nan'}, {'LocationNormalized': 'Surrey', 'ContractTime': 'permanent'}, {'LocationNormalized': 'Leeds', 'ContractTime': 'contract'}, {'LocationNormalized': 'Liverpool', 'ContractTime': 'permanent'}, {'LocationNormalized': 'Manchester', 'ContractTime': 'permanent'}, {'LocationNormalized': 'Cornwall', 'ContractTime': 'nan'}, {'LocationNormalized': 'Southampton', 'ContractTime': 'permanent'}, {'LocationNormalized': 'Bristol', 'ContractTime': 'nan'}, {'LocationNormalized': 'Newport-On-Tay', 'ContractTime': 'permanent'}, {'LocationNormalized': 'South Yorkshire', 'ContractTime': 'permanent'}, {'LocationNormalized': 'Peterborough', 'ContractTime': 'permanent'}, {'LocationNormalized': 'Bristol', 'ContractTime': 'permanent'}, {'LocationNormalized': 'Preston', 'ContractTime': 'permanent'}, {'LocationNormalized': 'North West London', 'ContractTime': 'permanent'}, {'LocationNormalized': 'South East London', 'ContractTime': 'permanent'}, {'LocationNormalized': 'Anstruther', 'ContractTime': 'nan'}, {'LocationNormalized': 'London', 'ContractTime': 'nan'}, {'LocationNormalized': 'London', 'ContractTime': 'nan'}, {'LocationNormalized': 'Washington', 'ContractTime': 'permanent'}, {'LocationNormalized': 'Preston', 'ContractTime': 'nan'}, {'LocationNormalized': 'South East London', 'ContractTime': 'permanent'}, {'LocationNormalized': 'Belle Isle', 'ContractTime': 'permanent'}, {'LocationNormalized': 'Smethwick', 'ContractTime': 'nan'}, {'LocationNormalized': 'Manchester', 'ContractTime': 'permanent'}, {'LocationNormalized': 'Leicester', 'ContractTime': 'permanent'}, {'LocationNormalized': 'Cheltenham', 'ContractTime': 'permanent'}, {'LocationNormalized': 'Wales', 'ContractTime': 'permanent'}, {'LocationNormalized': 'UK', 'ContractTime': 'nan'}, {'LocationNormalized': 'North Yorkshire', 'ContractTime': 'permanent'}, {'LocationNormalized': 'Derby', 'ContractTime': 'nan'}, {'LocationNormalized': 'Maidstone', 'ContractTime': 'permanent'}, {'LocationNormalized': 'Chertsey', 'ContractTime': 'permanent'}, {'LocationNormalized': 'London', 'ContractTime': 'permanent'}, {'LocationNormalized': 'Cowdenbeath', 'ContractTime': 'nan'}, {'LocationNormalized': 'UK', 'ContractTime': 'permanent'}, {'LocationNormalized': 'UK', 'ContractTime': 'permanent'}, {'LocationNormalized': 'Bristol', 'ContractTime': 'nan'}, {'LocationNormalized': 'Darwen', 'ContractTime': 'permanent'}, {'LocationNormalized': 'Weston-Super-Mare', 'ContractTime': 'permanent'}, {'LocationNormalized': 'Guildford', 'ContractTime': 'nan'}, {'LocationNormalized': 'Richmond', 'ContractTime': 'nan'}, {'LocationNormalized': 'UK', 'ContractTime': 'permanent'}, {'LocationNormalized': 'South East London', 'ContractTime': 'permanent'}, {'LocationNormalized': 'South East London', 'ContractTime': 'permanent'}, {'LocationNormalized': 'East Midlands', 'ContractTime': 'permanent'}, {'LocationNormalized': 'UK', 'ContractTime': 'permanent'}, {'LocationNormalized': 'Leeds', 'ContractTime': 'permanent'}, {'LocationNormalized': 'Gloucestershire', 'ContractTime': 'permanent'}, {'LocationNormalized': 'London', 'ContractTime': 'permanent'}, {'LocationNormalized': 'Derby', 'ContractTime': 'permanent'}, {'LocationNormalized': 'Central London', 'ContractTime': 'contract'}, {'LocationNormalized': 'UK', 'ContractTime': 'permanent'}, {'LocationNormalized': 'High Wycombe', 'ContractTime': 'nan'}, {'LocationNormalized': 'Oxfordshire', 'ContractTime': 'permanent'}, {'LocationNormalized': 'London', 'ContractTime': 'contract'}, {'LocationNormalized': 'Hampshire', 'ContractTime': 'permanent'}, {'LocationNormalized': 'Ely', 'ContractTime': 'permanent'}, {'LocationNormalized': 'Birmingham', 'ContractTime': 'permanent'}, {'LocationNormalized': 'UK', 'ContractTime': 'permanent'}, {'LocationNormalized': 'UK', 'ContractTime': 'permanent'}, {'LocationNormalized': 'London', 'ContractTime': 'permanent'}, {'LocationNormalized': 'Surrey', 'ContractTime': 'nan'}, {'LocationNormalized': 'UK', 'ContractTime': 'permanent'}, {'LocationNormalized': 'Essex', 'ContractTime': 'permanent'}, {'LocationNormalized': 'South East England', 'ContractTime': 'permanent'}, {'LocationNormalized': 'South East London', 'ContractTime': 'contract'}, {'LocationNormalized': 'North East England', 'ContractTime': 'contract'}, {'LocationNormalized': 'Warrington', 'ContractTime': 'permanent'}, {'LocationNormalized': 'Birmingham', 'ContractTime': 'permanent'}, {'LocationNormalized': 'Belfast', 'ContractTime': 'permanent'}, {'LocationNormalized': 'Milton Keynes', 'ContractTime': 'permanent'}, {'LocationNormalized': 'UK', 'ContractTime': 'nan'}, {'LocationNormalized': 'Salford', 'ContractTime': 'nan'}, {'LocationNormalized': 'Crawley', 'ContractTime': 'permanent'}, {'LocationNormalized': 'UK', 'ContractTime': 'permanent'}, {'LocationNormalized': 'Nottinghamshire', 'ContractTime': 'permanent'}, {'LocationNormalized': 'Stockport', 'ContractTime': 'permanent'}, {'LocationNormalized': 'Wigan', 'ContractTime': 'permanent'}, {'LocationNormalized': 'UK', 'ContractTime': 'permanent'}, {'LocationNormalized': 'London', 'ContractTime': 'permanent'}, {'LocationNormalized': 'UK', 'ContractTime': 'permanent'}, {'LocationNormalized': 'London', 'ContractTime': 'permanent'}, {'LocationNormalized': 'Bedford', 'ContractTime': 'permanent'}, {'LocationNormalized': 'South East London', 'ContractTime': 'contract'}, {'LocationNormalized': 'Sevenoaks', 'ContractTime': 'permanent'}, {'LocationNormalized': 'London', 'ContractTime': 'permanent'}, {'LocationNormalized': 'UK', 'ContractTime': 'permanent'}, {'LocationNormalized': 'North Tawton', 'ContractTime': 'nan'}, {'LocationNormalized': 'London', 'ContractTime': 'permanent'}, {'LocationNormalized': 'Oxfordshire', 'ContractTime': 'permanent'}, {'LocationNormalized': 'East Sheen', 'ContractTime': 'permanent'}, {'LocationNormalized': 'Glasgow', 'ContractTime': 'permanent'}, {'LocationNormalized': 'East Midlands', 'ContractTime': 'permanent'}, {'LocationNormalized': 'Buckinghamshire', 'ContractTime': 'permanent'}, {'LocationNormalized': 'Bracknell', 'ContractTime': 'nan'}, {'LocationNormalized': 'South East London', 'ContractTime': 'permanent'}, {'LocationNormalized': 'High Wycombe', 'ContractTime': 'permanent'}, {'LocationNormalized': 'UK', 'ContractTime': 'permanent'}, {'LocationNormalized': 'Trowbridge', 'ContractTime': 'permanent'}, {'LocationNormalized': 'Cambridge', 'ContractTime': 'permanent'}, {'LocationNormalized': 'Lydbury North', 'ContractTime': 'permanent'}, {'LocationNormalized': 'UK', 'ContractTime': 'permanent'}, {'LocationNormalized': 'Cardiff', 'ContractTime': 'permanent'}, {'LocationNormalized': 'Merseyside', 'ContractTime': 'permanent'}, {'LocationNormalized': 'Merseyside', 'ContractTime': 'permanent'}, {'LocationNormalized': 'Biggleswade', 'ContractTime': 'permanent'}, {'LocationNormalized': 'Yorkshire and Humberside', 'ContractTime': 'permanent'}, {'LocationNormalized': 'Chesterfield', 'ContractTime': 'permanent'}, {'LocationNormalized': 'Pontyclun', 'ContractTime': 'nan'}, {'LocationNormalized': 'Widnes', 'ContractTime': 'permanent'}, {'LocationNormalized': 'Milton Keynes', 'ContractTime': 'permanent'}, {'LocationNormalized': 'Porters Wood', 'ContractTime': 'permanent'}, {'LocationNormalized': 'UK', 'ContractTime': 'permanent'}, {'LocationNormalized': 'East Sheen', 'ContractTime': 'permanent'}, {'LocationNormalized': 'The City', 'ContractTime': 'permanent'}, {'LocationNormalized': 'West Lothian', 'ContractTime': 'permanent'}, {'LocationNormalized': 'Bradford', 'ContractTime': 'permanent'}, {'LocationNormalized': 'Central London', 'ContractTime': 'permanent'}, {'LocationNormalized': 'London', 'ContractTime': 'permanent'}, {'LocationNormalized': 'South Yorkshire', 'ContractTime': 'permanent'}, {'LocationNormalized': 'Derby', 'ContractTime': 'permanent'}, {'LocationNormalized': 'South East England', 'ContractTime': 'permanent'}, {'LocationNormalized': 'West Yorkshire', 'ContractTime': 'nan'}, {'LocationNormalized': 'Hampshire', 'ContractTime': 'permanent'}, {'LocationNormalized': 'UK', 'ContractTime': 'nan'}, {'LocationNormalized': 'UK', 'ContractTime': 'permanent'}, {'LocationNormalized': 'UK', 'ContractTime': 'permanent'}, {'LocationNormalized': 'Birmingham', 'ContractTime': 'nan'}, {'LocationNormalized': 'Berkeley', 'ContractTime': 'permanent'}, {'LocationNormalized': 'Hereford', 'ContractTime': 'nan'}, {'LocationNormalized': 'Calcot', 'ContractTime': 'permanent'}, {'LocationNormalized': 'Farnborough', 'ContractTime': 'permanent'}, {'LocationNormalized': 'Leeds', 'ContractTime': 'contract'}, {'LocationNormalized': 'UK', 'ContractTime': 'permanent'}, {'LocationNormalized': 'Lancashire', 'ContractTime': 'permanent'}, {'LocationNormalized': 'Great Yarmouth', 'ContractTime': 'contract'}, {'LocationNormalized': 'Bristol', 'ContractTime': 'contract'}, {'LocationNormalized': 'Woking', 'ContractTime': 'nan'}, {'LocationNormalized': 'Liverpool', 'ContractTime': 'permanent'}, {'LocationNormalized': 'North Yorkshire', 'ContractTime': 'nan'}, {'LocationNormalized': 'UK', 'ContractTime': 'permanent'}, {'LocationNormalized': 'Manchester', 'ContractTime': 'permanent'}, {'LocationNormalized': 'Buckinghamshire', 'ContractTime': 'permanent'}, {'LocationNormalized': 'Harrow', 'ContractTime': 'nan'}, {'LocationNormalized': 'Hampshire', 'ContractTime': 'permanent'}, {'LocationNormalized': 'Newport Pagnell', 'ContractTime': 'nan'}, {'LocationNormalized': 'Cannock', 'ContractTime': 'permanent'}, {'LocationNormalized': 'Birmingham', 'ContractTime': 'permanent'}, {'LocationNormalized': 'Central London', 'ContractTime': 'nan'}, {'LocationNormalized': 'Eastleigh', 'ContractTime': 'permanent'}, {'LocationNormalized': 'UK', 'ContractTime': 'permanent'}, {'LocationNormalized': 'Felixstowe', 'ContractTime': 'nan'}, {'LocationNormalized': 'York', 'ContractTime': 'nan'}, {'LocationNormalized': 'Scotland', 'ContractTime': 'permanent'}, {'LocationNormalized': 'Manchester', 'ContractTime': 'contract'}, {'LocationNormalized': 'UK', 'ContractTime': 'permanent'}, {'LocationNormalized': 'London', 'ContractTime': 'nan'}, {'LocationNormalized': 'Luton', 'ContractTime': 'permanent'}, {'LocationNormalized': 'Tarporley', 'ContractTime': 'permanent'}, {'LocationNormalized': 'Warwickshire', 'ContractTime': 'permanent'}, {'LocationNormalized': 'Eastern England', 'ContractTime': 'permanent'}, {'LocationNormalized': 'East Sheen', 'ContractTime': 'permanent'}, {'LocationNormalized': 'North London', 'ContractTime': 'permanent'}, {'LocationNormalized': 'Buckinghamshire', 'ContractTime': 'contract'}, {'LocationNormalized': 'UK', 'ContractTime': 'permanent'}, {'LocationNormalized': 'UK', 'ContractTime': 'contract'}, {'LocationNormalized': 'The City', 'ContractTime': 'permanent'}, {'LocationNormalized': 'London', 'ContractTime': 'permanent'}, {'LocationNormalized': 'Birmingham', 'ContractTime': 'nan'}, {'LocationNormalized': 'South East London', 'ContractTime': 'permanent'}, {'LocationNormalized': 'Stevenage', 'ContractTime': 'permanent'}, {'LocationNormalized': 'Oxford', 'ContractTime': 'permanent'}, {'LocationNormalized': 'South East London', 'ContractTime': 'permanent'}, {'LocationNormalized': 'London', 'ContractTime': 'permanent'}, {'LocationNormalized': 'The City', 'ContractTime': 'permanent'}, {'LocationNormalized': 'High Wycombe', 'ContractTime': 'contract'}, {'LocationNormalized': 'Newcastle Upon Tyne', 'ContractTime': 'permanent'}, {'LocationNormalized': 'Lancashire', 'ContractTime': 'permanent'}, {'LocationNormalized': 'Hertfordshire', 'ContractTime': 'permanent'}, {'LocationNormalized': 'London', 'ContractTime': 'permanent'}, {'LocationNormalized': 'Macclesfield', 'ContractTime': 'nan'}, {'LocationNormalized': 'Brackley', 'ContractTime': 'nan'}, {'LocationNormalized': 'UK', 'ContractTime': 'nan'}, {'LocationNormalized': 'London', 'ContractTime': 'permanent'}, {'LocationNormalized': 'Birmingham', 'ContractTime': 'contract'}, {'LocationNormalized': 'Leicestershire', 'ContractTime': 'contract'}, {'LocationNormalized': 'Nottinghamshire', 'ContractTime': 'contract'}, {'LocationNormalized': 'The City', 'ContractTime': 'permanent'}, {'LocationNormalized': 'Chester', 'ContractTime': 'permanent'}, {'LocationNormalized': 'Coventry', 'ContractTime': 'nan'}, {'LocationNormalized': 'UK', 'ContractTime': 'nan'}, {'LocationNormalized': 'Newcastle Upon Tyne', 'ContractTime': 'permanent'}, {'LocationNormalized': 'Birmingham', 'ContractTime': 'contract'}, {'LocationNormalized': 'Sheffield', 'ContractTime': 'nan'}, {'LocationNormalized': 'UK', 'ContractTime': 'permanent'}, {'LocationNormalized': 'Reading', 'ContractTime': 'permanent'}, {'LocationNormalized': 'Lancashire', 'ContractTime': 'permanent'}, {'LocationNormalized': 'Calcot', 'ContractTime': 'permanent'}, {'LocationNormalized': 'Aberdeen', 'ContractTime': 'nan'}, {'LocationNormalized': 'London', 'ContractTime': 'permanent'}, {'LocationNormalized': 'UK', 'ContractTime': 'permanent'}, {'LocationNormalized': 'UK', 'ContractTime': 'nan'}, {'LocationNormalized': 'South East London', 'ContractTime': 'nan'}, {'LocationNormalized': 'London', 'ContractTime': 'permanent'}, {'LocationNormalized': 'UK', 'ContractTime': 'permanent'}, {'LocationNormalized': 'UK', 'ContractTime': 'permanent'}, {'LocationNormalized': 'Warwickshire', 'ContractTime': 'permanent'}, {'LocationNormalized': 'Exeter', 'ContractTime': 'nan'}, {'LocationNormalized': 'Woodbridge', 'ContractTime': 'permanent'}, {'LocationNormalized': 'London', 'ContractTime': 'permanent'}, {'LocationNormalized': 'Surrey', 'ContractTime': 'nan'}, {'LocationNormalized': 'Hampshire', 'ContractTime': 'permanent'}, {'LocationNormalized': 'UK', 'ContractTime': 'permanent'}, {'LocationNormalized': 'Kent', 'ContractTime': 'nan'}, {'LocationNormalized': 'Cardiff', 'ContractTime': 'permanent'}, {'LocationNormalized': 'London', 'ContractTime': 'permanent'}, {'LocationNormalized': 'London', 'ContractTime': 'nan'}, {'LocationNormalized': 'UK', 'ContractTime': 'permanent'}, {'LocationNormalized': 'Birmingham', 'ContractTime': 'permanent'}, {'LocationNormalized': 'Aberdeen', 'ContractTime': 'permanent'}, {'LocationNormalized': 'West Ravendale', 'ContractTime': 'nan'}, {'LocationNormalized': 'UK', 'ContractTime': 'permanent'}, {'LocationNormalized': 'UK', 'ContractTime': 'permanent'}, {'LocationNormalized': 'UK', 'ContractTime': 'permanent'}, {'LocationNormalized': 'The City', 'ContractTime': 'permanent'}, {'LocationNormalized': 'London', 'ContractTime': 'permanent'}, {'LocationNormalized': 'Torquay', 'ContractTime': 'nan'}, {'LocationNormalized': 'Stourbridge', 'ContractTime': 'nan'}, {'LocationNormalized': 'Seascale', 'ContractTime': 'contract'}, {'LocationNormalized': 'Orpington', 'ContractTime': 'nan'}, {'LocationNormalized': 'Aldershot', 'ContractTime': 'permanent'}, {'LocationNormalized': 'Colchester', 'ContractTime': 'permanent'}, {'LocationNormalized': 'Surrey', 'ContractTime': 'permanent'}, {'LocationNormalized': 'Cambridge', 'ContractTime': 'nan'}, {'LocationNormalized': 'UK', 'ContractTime': 'permanent'}, {'LocationNormalized': 'UK', 'ContractTime': 'permanent'}, {'LocationNormalized': 'South West London', 'ContractTime': 'nan'}, {'LocationNormalized': 'Manchester', 'ContractTime': 'permanent'}, {'LocationNormalized': 'UK', 'ContractTime': 'permanent'}, {'LocationNormalized': 'Byfleet', 'ContractTime': 'permanent'}, {'LocationNormalized': 'Stoke-On-Trent', 'ContractTime': 'permanent'}, {'LocationNormalized': 'Devon', 'ContractTime': 'permanent'}, {'LocationNormalized': 'Bristol', 'ContractTime': 'nan'}, {'LocationNormalized': 'Lewes', 'ContractTime': 'contract'}, {'LocationNormalized': 'Slough', 'ContractTime': 'nan'}, {'LocationNormalized': 'Chester', 'ContractTime': 'nan'}, {'LocationNormalized': 'Preston', 'ContractTime': 'permanent'}, {'LocationNormalized': 'Fleet', 'ContractTime': 'permanent'}, {'LocationNormalized': 'Doncaster', 'ContractTime': 'nan'}, {'LocationNormalized': 'UK', 'ContractTime': 'contract'}, {'LocationNormalized': 'London', 'ContractTime': 'contract'}, {'LocationNormalized': 'Gloucestershire', 'ContractTime': 'contract'}, {'LocationNormalized': 'Manchester', 'ContractTime': 'permanent'}, {'LocationNormalized': 'Liverpool', 'ContractTime': 'nan'}, {'LocationNormalized': 'West Yorkshire', 'ContractTime': 'permanent'}, {'LocationNormalized': 'Manchester', 'ContractTime': 'nan'}, {'LocationNormalized': 'Farnborough', 'ContractTime': 'contract'}, {'LocationNormalized': 'Guildford', 'ContractTime': 'nan'}, {'LocationNormalized': 'Weybridge', 'ContractTime': 'nan'}, {'LocationNormalized': 'Bradford', 'ContractTime': 'nan'}, {'LocationNormalized': 'Abingdon', 'ContractTime': 'permanent'}, {'LocationNormalized': 'Leeds', 'ContractTime': 'permanent'}, {'LocationNormalized': 'Birmingham', 'ContractTime': 'permanent'}, {'LocationNormalized': 'UK', 'ContractTime': 'permanent'}, {'LocationNormalized': 'West Midlands', 'ContractTime': 'contract'}, {'LocationNormalized': 'Ilford', 'ContractTime': 'permanent'}, {'LocationNormalized': 'UK', 'ContractTime': 'permanent'}, {'LocationNormalized': 'Preston', 'ContractTime': 'permanent'}, {'LocationNormalized': 'Barnstaple', 'ContractTime': 'permanent'}, {'LocationNormalized': 'UK', 'ContractTime': 'nan'}, {'LocationNormalized': 'Pontefract', 'ContractTime': 'nan'}, {'LocationNormalized': 'Abingdon', 'ContractTime': 'permanent'}, {'LocationNormalized': 'Birmingham', 'ContractTime': 'permanent'}, {'LocationNormalized': 'Colchester', 'ContractTime': 'nan'}, {'LocationNormalized': 'Birmingham', 'ContractTime': 'nan'}, {'LocationNormalized': 'St. Albans', 'ContractTime': 'nan'}, {'LocationNormalized': 'March', 'ContractTime': 'nan'}, {'LocationNormalized': 'Oxford', 'ContractTime': 'contract'}, {'LocationNormalized': 'Bath', 'ContractTime': 'nan'}, {'LocationNormalized': 'Eastbourne', 'ContractTime': 'nan'}, {'LocationNormalized': 'Newark', 'ContractTime': 'permanent'}, {'LocationNormalized': 'Leeds', 'ContractTime': 'permanent'}, {'LocationNormalized': 'Northampton', 'ContractTime': 'permanent'}, {'LocationNormalized': 'Woking', 'ContractTime': 'nan'}, {'LocationNormalized': 'Leeds', 'ContractTime': 'permanent'}, {'LocationNormalized': 'Sheffield', 'ContractTime': 'permanent'}, {'LocationNormalized': 'Wandsworth', 'ContractTime': 'contract'}, {'LocationNormalized': 'Warwick', 'ContractTime': 'permanent'}, {'LocationNormalized': 'Edinburgh Technopole', 'ContractTime': 'contract'}, {'LocationNormalized': 'London', 'ContractTime': 'contract'}, {'LocationNormalized': 'UK', 'ContractTime': 'permanent'}, {'LocationNormalized': 'London', 'ContractTime': 'permanent'}, {'LocationNormalized': 'UK', 'ContractTime': 'permanent'}, {'LocationNormalized': 'Oxfordshire', 'ContractTime': 'permanent'}, {'LocationNormalized': 'Covent Garden', 'ContractTime': 'permanent'}, {'LocationNormalized': 'Swindon', 'ContractTime': 'nan'}, {'LocationNormalized': 'Heywood', 'ContractTime': 'nan'}, {'LocationNormalized': 'Scunthorpe', 'ContractTime': 'permanent'}, {'LocationNormalized': 'UK', 'ContractTime': 'nan'}, {'LocationNormalized': 'Gloucester', 'ContractTime': 'permanent'}, {'LocationNormalized': 'Buckinghamshire', 'ContractTime': 'permanent'}, {'LocationNormalized': 'Leicester', 'ContractTime': 'contract'}, {'LocationNormalized': 'South East London', 'ContractTime': 'permanent'}, {'LocationNormalized': 'London', 'ContractTime': 'nan'}, {'LocationNormalized': 'Manchester', 'ContractTime': 'permanent'}, {'LocationNormalized': 'Milton Keynes', 'ContractTime': 'nan'}, {'LocationNormalized': 'UK', 'ContractTime': 'permanent'}, {'LocationNormalized': 'Surrey', 'ContractTime': 'permanent'}, {'LocationNormalized': 'Welwyn Garden City', 'ContractTime': 'nan'}, {'LocationNormalized': 'UK', 'ContractTime': 'nan'}, {'LocationNormalized': 'Reading', 'ContractTime': 'permanent'}, {'LocationNormalized': 'Broughton', 'ContractTime': 'contract'}, {'LocationNormalized': 'Coventry', 'ContractTime': 'permanent'}, {'LocationNormalized': 'UK', 'ContractTime': 'permanent'}, {'LocationNormalized': 'Erith', 'ContractTime': 'nan'}, {'LocationNormalized': 'UK', 'ContractTime': 'permanent'}, {'LocationNormalized': 'Birmingham', 'ContractTime': 'nan'}, {'LocationNormalized': 'UK', 'ContractTime': 'nan'}, {'LocationNormalized': 'Derby', 'ContractTime': 'nan'}, {'LocationNormalized': 'Wymondham', 'ContractTime': 'permanent'}, {'LocationNormalized': 'South West London', 'ContractTime': 'nan'}, {'LocationNormalized': 'Worcestershire', 'ContractTime': 'contract'}, {'LocationNormalized': 'UK', 'ContractTime': 'permanent'}, {'LocationNormalized': 'London', 'ContractTime': 'permanent'}, {'LocationNormalized': 'UK', 'ContractTime': 'permanent'}, {'LocationNormalized': 'Bridgend', 'ContractTime': 'nan'}, {'LocationNormalized': 'Oxfordshire', 'ContractTime': 'nan'}, {'LocationNormalized': 'UK', 'ContractTime': 'permanent'}, {'LocationNormalized': 'Hampshire', 'ContractTime': 'permanent'}, {'LocationNormalized': 'Leicester', 'ContractTime': 'nan'}, {'LocationNormalized': 'Surrey', 'ContractTime': 'permanent'}, {'LocationNormalized': 'The City', 'ContractTime': 'nan'}, {'LocationNormalized': 'London', 'ContractTime': 'permanent'}, {'LocationNormalized': 'South Yorkshire', 'ContractTime': 'nan'}, {'LocationNormalized': 'Belfast', 'ContractTime': 'permanent'}, {'LocationNormalized': 'Surrey', 'ContractTime': 'permanent'}, {'LocationNormalized': 'UK', 'ContractTime': 'contract'}, {'LocationNormalized': 'South East London', 'ContractTime': 'permanent'}, {'LocationNormalized': 'Oxford', 'ContractTime': 'permanent'}, {'LocationNormalized': 'Leeds', 'ContractTime': 'permanent'}, {'LocationNormalized': 'Stratford-Upon-Avon', 'ContractTime': 'permanent'}, {'LocationNormalized': 'Buckinghamshire', 'ContractTime': 'permanent'}, {'LocationNormalized': 'Nottingham', 'ContractTime': 'nan'}, {'LocationNormalized': 'UK', 'ContractTime': 'permanent'}, {'LocationNormalized': 'Worthing', 'ContractTime': 'permanent'}, {'LocationNormalized': 'Plymouth', 'ContractTime': 'permanent'}, {'LocationNormalized': 'Scotland', 'ContractTime': 'permanent'}, {'LocationNormalized': 'Derbyshire', 'ContractTime': 'contract'}, {'LocationNormalized': 'Bedfordshire', 'ContractTime': 'permanent'}, {'LocationNormalized': 'London', 'ContractTime': 'nan'}, {'LocationNormalized': 'Wrexham', 'ContractTime': 'nan'}, {'LocationNormalized': 'South East London', 'ContractTime': 'permanent'}, {'LocationNormalized': 'Oxford', 'ContractTime': 'permanent'}, {'LocationNormalized': 'Leeds', 'ContractTime': 'permanent'}, {'LocationNormalized': 'Cirencester', 'ContractTime': 'permanent'}, {'LocationNormalized': 'South East London', 'ContractTime': 'permanent'}, {'LocationNormalized': 'Borders', 'ContractTime': 'permanent'}, {'LocationNormalized': 'UK', 'ContractTime': 'permanent'}, {'LocationNormalized': 'Wotton-Under-Edge', 'ContractTime': 'nan'}, {'LocationNormalized': 'Manchester', 'ContractTime': 'permanent'}, {'LocationNormalized': 'East Sheen', 'ContractTime': 'permanent'}, {'LocationNormalized': 'Reading', 'ContractTime': 'permanent'}, {'LocationNormalized': 'East Midlands', 'ContractTime': 'nan'}, {'LocationNormalized': 'West Midlands', 'ContractTime': 'permanent'}, {'LocationNormalized': 'UK', 'ContractTime': 'permanent'}, {'LocationNormalized': 'UK', 'ContractTime': 'permanent'}, {'LocationNormalized': 'South East London', 'ContractTime': 'permanent'}, {'LocationNormalized': 'London', 'ContractTime': 'permanent'}, {'LocationNormalized': 'Newark', 'ContractTime': 'permanent'}, {'LocationNormalized': 'UK', 'ContractTime': 'permanent'}, {'LocationNormalized': 'UK', 'ContractTime': 'nan'}, {'LocationNormalized': 'UK', 'ContractTime': 'permanent'}, {'LocationNormalized': 'UK', 'ContractTime': 'permanent'}, {'LocationNormalized': 'Brighton', 'ContractTime': 'permanent'}, {'LocationNormalized': 'UK', 'ContractTime': 'permanent'}, {'LocationNormalized': 'Cambridgeshire', 'ContractTime': 'permanent'}, {'LocationNormalized': 'UK', 'ContractTime': 'permanent'}, {'LocationNormalized': 'UK', 'ContractTime': 'permanent'}, {'LocationNormalized': 'UK', 'ContractTime': 'permanent'}, {'LocationNormalized': 'Bexhill-On-Sea', 'ContractTime': 'permanent'}, {'LocationNormalized': 'Manchester', 'ContractTime': 'permanent'}, {'LocationNormalized': 'UK', 'ContractTime': 'permanent'}, {'LocationNormalized': 'South East London', 'ContractTime': 'permanent'}, {'LocationNormalized': 'North London', 'ContractTime': 'contract'}, {'LocationNormalized': 'Leeds', 'ContractTime': 'contract'}, {'LocationNormalized': 'London', 'ContractTime': 'nan'}, {'LocationNormalized': 'UK', 'ContractTime': 'permanent'}, {'LocationNormalized': 'Bath', 'ContractTime': 'nan'}, {'LocationNormalized': 'Stevenage', 'ContractTime': 'permanent'}, {'LocationNormalized': 'Bristol', 'ContractTime': 'nan'}, {'LocationNormalized': 'UK', 'ContractTime': 'permanent'}, {'LocationNormalized': 'UK', 'ContractTime': 'permanent'}, {'LocationNormalized': 'UK', 'ContractTime': 'contract'}, {'LocationNormalized': 'London', 'ContractTime': 'permanent'}, {'LocationNormalized': 'North Ayrshire', 'ContractTime': 'permanent'}, {'LocationNormalized': 'Ford', 'ContractTime': 'permanent'}, {'LocationNormalized': 'Ely', 'ContractTime': 'nan'}, {'LocationNormalized': 'UK', 'ContractTime': 'permanent'}, {'LocationNormalized': 'The City', 'ContractTime': 'permanent'}, {'LocationNormalized': 'Bristol', 'ContractTime': 'contract'}, {'LocationNormalized': 'Cambridgeshire', 'ContractTime': 'permanent'}, {'LocationNormalized': 'UK', 'ContractTime': 'permanent'}, {'LocationNormalized': 'Glanton', 'ContractTime': 'nan'}, {'LocationNormalized': 'Warrington', 'ContractTime': 'nan'}, {'LocationNormalized': 'Oldham', 'ContractTime': 'nan'}, {'LocationNormalized': 'Southwark', 'ContractTime': 'permanent'}, {'LocationNormalized': 'Milton Keynes', 'ContractTime': 'permanent'}, {'LocationNormalized': 'Ipswich', 'ContractTime': 'permanent'}]\n",
      "  (0, 2)\t1.0\n",
      "  (0, 145)\t1.0\n",
      "  (1, 2)\t1.0\n",
      "  (1, 145)\t1.0\n",
      "  (2, 2)\t1.0\n",
      "  (2, 208)\t1.0\n",
      "  (3, 2)\t1.0\n",
      "  (3, 70)\t1.0\n",
      "  (4, 1)\t1.0\n",
      "  (4, 229)\t1.0\n"
     ]
    }
   ],
   "source": [
    "# Convert the collection of raw documents to a matrix of TF-IDF features with TfidfVectorizer\n",
    "vectorizer = TfidfVectorizer(min_df=5)\n",
    "X_train_tfidf = vectorizer.fit_transform(train['FullDescription'])\n",
    "print(X_train_tfidf)\n",
    "\n",
    "# Converts the LocationNormalized and ContractTime feature of all records to a list of dictionaries\n",
    "# Eg: [ {'LocationNormalized': 'London', 'Contract': 'Permanent'}, \n",
    "# {'LocationNormalized': 'London', 'Contract': 'Permanent'} ..]\n",
    "features = train[['LocationNormalized', 'ContractTime']].to_dict('records')\n",
    "print(features)\n",
    "\n",
    "#Transforms lists of feature-value mappings to vectors\n",
    "enc = DictVectorizer()\n",
    "X_train_categ = enc.fit_transform(features)\n",
    "print X_train_categ[0:5]\n",
    "\n",
    "# Take a sequence of arrays and stack them horizontally to make a single array. \n",
    "# Rebuild arrays divided by scipy.sparse.hstack. \n",
    "# Note that matrices are sparse. \n",
    "# In numerical analysis, a sparse matrix is a matrix in which most of the elements are zero. \n",
    "X_train = hstack([X_train_tfidf,X_train_categ])"
   ]
  },
  {
   "cell_type": "code",
   "execution_count": 27,
   "metadata": {},
   "outputs": [
    {
     "data": {
      "text/plain": [
       "Ridge(alpha=0.1, copy_X=True, fit_intercept=True, max_iter=None,\n",
       "   normalize=False, random_state=None, solver='auto', tol=0.001)"
      ]
     },
     "execution_count": 27,
     "metadata": {},
     "output_type": "execute_result"
    }
   ],
   "source": [
    "# Classifier: \n",
    "\n",
    "#classifier = Ridge(alpha=0.1)\n",
    "#classifier = LinearRegression()\n",
    "#classifier = DecisionTreeClassifier()\n",
    "classifer = RandomForestClassifier()\n",
    "# The target value (algorithm has to predict) is SalaryNormalized\n",
    "y = train['SalaryNormalized']\n",
    "\n",
    "# train model on data\n",
    "classifier.fit(X_train, y)"
   ]
  },
  {
   "cell_type": "code",
   "execution_count": 38,
   "metadata": {},
   "outputs": [
    {
     "name": "stdout",
     "output_type": "stream",
     "text": [
      "                                     FullDescription LocationNormalized  \\\n",
      "0  we currently have a vacancy for an hr project ...      Milton Keynes   \n",
      "1  a web developer opportunity has arisen with an...         Manchester   \n",
      "\n",
      "  ContractTime  SalaryNormalized  \n",
      "0     contract               NaN  \n",
      "1    permanent               NaN  \n"
     ]
    }
   ],
   "source": [
    "# test data set\n",
    "X_test_tfidf = vectorizer.transform(test['FullDescription'])\n",
    "X_test_categ = enc.transform(test[['LocationNormalized', 'ContractTime']].to_dict('records'))\n",
    "X_test = hstack([X_test_tfidf, X_test_categ])\n"
   ]
  },
  {
   "cell_type": "code",
   "execution_count": 29,
   "metadata": {},
   "outputs": [],
   "source": [
    "result = classifier.predict(X_test)"
   ]
  },
  {
   "cell_type": "code",
   "execution_count": 30,
   "metadata": {},
   "outputs": [
    {
     "name": "stdout",
     "output_type": "stream",
     "text": [
      "[44724.78444727 46726.26679802]\n"
     ]
    }
   ],
   "source": [
    "print result"
   ]
  },
  {
   "cell_type": "code",
   "execution_count": 31,
   "metadata": {},
   "outputs": [
    {
     "name": "stdout",
     "output_type": "stream",
     "text": [
      "115281874.88608739\n"
     ]
    }
   ],
   "source": [
    "# Ground truth values were obtained from an online github repo\n",
    "ground_truth = [56541.76, 37190.92]\n",
    "\n",
    "rmse = mean_squared_error(ground_truth, result)\n",
    "print rmse"
   ]
  },
  {
   "cell_type": "code",
   "execution_count": null,
   "metadata": {},
   "outputs": [],
   "source": []
  }
 ],
 "metadata": {
  "kernelspec": {
   "display_name": "Python 2",
   "language": "python",
   "name": "python2"
  },
  "language_info": {
   "codemirror_mode": {
    "name": "ipython",
    "version": 2
   },
   "file_extension": ".py",
   "mimetype": "text/x-python",
   "name": "python",
   "nbconvert_exporter": "python",
   "pygments_lexer": "ipython2",
   "version": "2.7.12"
  }
 },
 "nbformat": 4,
 "nbformat_minor": 2
}
