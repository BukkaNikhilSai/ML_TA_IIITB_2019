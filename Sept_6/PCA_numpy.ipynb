{
 "cells": [
  {
   "cell_type": "code",
   "execution_count": null,
   "metadata": {},
   "outputs": [],
   "source": [
    "def pca(X):\n",
    "  # Data matrix X, assumes 0-centered\n",
    "  n, m = X.shape\n",
    "  assert np.allclose(X.mean(axis=0), np.zeros(m))\n",
    "  # Compute covariance matrix\n",
    "  C = np.dot(X.T, X) / (n-1)\n",
    "  # Eigen decomposition\n",
    "  eigen_vals, eigen_vecs = np.linalg.eig(C)\n",
    "  # Project X onto PC space\n",
    "  X_pca = np.dot(X, eigen_vecs)\n",
    "  return X_pca"
   ]
  }
 ],
 "metadata": {
  "kernelspec": {
   "display_name": "Python 2",
   "language": "python",
   "name": "python2"
  },
  "language_info": {
   "codemirror_mode": {
    "name": "ipython",
    "version": 2
   },
   "file_extension": ".py",
   "mimetype": "text/x-python",
   "name": "python",
   "nbconvert_exporter": "python",
   "pygments_lexer": "ipython2",
   "version": "2.7.12"
  }
 },
 "nbformat": 4,
 "nbformat_minor": 2
}
